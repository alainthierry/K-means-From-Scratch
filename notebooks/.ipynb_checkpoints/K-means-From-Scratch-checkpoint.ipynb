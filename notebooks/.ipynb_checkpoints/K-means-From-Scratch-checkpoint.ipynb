{
 "cells": [
  {
   "cell_type": "markdown",
   "id": "25612746",
   "metadata": {},
   "source": [
    "# K-means from scratch Implementation\n",
    "<em><b>(Implementation of K-means, a clustering machine learning algorithm in the case of\n",
    "    Unsupervised learning from scratch)</b></em>"
   ]
  },
  {
   "cell_type": "code",
   "execution_count": 1,
   "id": "9b21ccaa",
   "metadata": {},
   "outputs": [],
   "source": [
    "%matplotlib inline\n",
    "import math\n",
    "import numpy as np\n",
    "import pandas as pd\n",
    "import matplotlib.pyplot as plt"
   ]
  },
  {
   "cell_type": "markdown",
   "id": "cea8f617",
   "metadata": {},
   "source": [
    "## Loading data"
   ]
  },
  {
   "cell_type": "code",
   "execution_count": 19,
   "id": "19513744",
   "metadata": {},
   "outputs": [
    {
     "data": {
      "text/plain": [
       "4177"
      ]
     },
     "execution_count": 19,
     "metadata": {},
     "output_type": "execute_result"
    }
   ],
   "source": [
    "df = pd.read_csv('../data/abalone.csv')\n",
    "# header = ['LongestShell', 'Diameter', 'Height', 'WholeWeight', 'ShellWeight', 'Rings']\n",
    "header = ['LongestShell', 'Diameter']\n",
    "df = df[header]\n",
    "df.head()\n",
    "data = df.values\n",
    "len(data)"
   ]
  },
  {
   "cell_type": "code",
   "execution_count": 20,
   "id": "529e088e",
   "metadata": {},
   "outputs": [
    {
     "data": {
      "text/plain": [
       "array([[0.455, 0.365],\n",
       "       [0.35 , 0.265],\n",
       "       [0.53 , 0.42 ],\n",
       "       ...,\n",
       "       [0.6  , 0.475],\n",
       "       [0.625, 0.485],\n",
       "       [0.71 , 0.555]])"
      ]
     },
     "execution_count": 20,
     "metadata": {},
     "output_type": "execute_result"
    }
   ],
   "source": [
    "data"
   ]
  },
  {
   "cell_type": "markdown",
   "id": "5d090313",
   "metadata": {},
   "source": [
    "### Compute euclidean distance"
   ]
  },
  {
   "cell_type": "code",
   "execution_count": 21,
   "id": "15111c90",
   "metadata": {},
   "outputs": [],
   "source": [
    "def euclidean_distance(X, Y):\n",
    "    \"\"\"\n",
    "    Compute euclidean distance between X and Y\n",
    "    \n",
    "    Arg(s):\n",
    "        X(array): X_coordinates\n",
    "        Y(array): Y_coordinates\n",
    "    Return(s):\n",
    "        distance(float): The distance between X and Y\n",
    "    \"\"\"\n",
    "    try:\n",
    "        if len(X) == len(Y):\n",
    "            distance = 0\n",
    "            for (x, y) in zip(X, Y):\n",
    "                distance +=(y - x)**2\n",
    "                \n",
    "            return np.round(math.sqrt(distance), 3)\n",
    "        else:\n",
    "            print(\"The two vectors do not have the same length ... !\")\n",
    "            return 0\n",
    "            \n",
    "    except Exception as e:\n",
    "        print('The vectors must be arry or list ... !')"
   ]
  },
  {
   "cell_type": "code",
   "execution_count": 22,
   "id": "542c0c04",
   "metadata": {},
   "outputs": [
    {
     "data": {
      "text/plain": [
       "14.188"
      ]
     },
     "execution_count": 22,
     "metadata": {},
     "output_type": "execute_result"
    }
   ],
   "source": [
    "n = 20\n",
    "X = [np.random.randint(3, 5) for x in range(n)]\n",
    "Y = [np.random.uniform() for y in range(n)]\n",
    "\n",
    "np.maximum(euclidean_distance(X, Y), euclidean_distance([2, 5], [3, 7]))"
   ]
  },
  {
   "cell_type": "code",
   "execution_count": 23,
   "id": "9f135a8f",
   "metadata": {},
   "outputs": [
    {
     "data": {
      "text/plain": [
       "(14.188, 2.0)"
      ]
     },
     "execution_count": 23,
     "metadata": {},
     "output_type": "execute_result"
    }
   ],
   "source": [
    "euclidean_distance(X, Y), euclidean_distance([2, 5], [2, 3])"
   ]
  },
  {
   "cell_type": "markdown",
   "id": "19106e00",
   "metadata": {},
   "source": [
    "###     Get randomly the controid values\n"
   ]
  },
  {
   "cell_type": "code",
   "execution_count": 25,
   "id": "069ff7b9",
   "metadata": {},
   "outputs": [],
   "source": [
    "def get_centroids(dataset, n_cluster, random_state):\n",
    "    \"\"\"\n",
    "    Getting randomly centroids values\n",
    "    \n",
    "    Arg(s):\n",
    "        dataset(numpy.array): The whole observations to cluster\n",
    "        n_cluster(int): The number of clusters chosen\n",
    "        random_state(integer)\n",
    "    Return(s):\n",
    "        centroids(nump.array): The randomly picked centroids\n",
    "    \"\"\"\n",
    "    np.random.seed(random_state)\n",
    "    centroids = []\n",
    "    rows = dataset.shape[0]\n",
    "    \n",
    "    for _ in range(n_cluster):\n",
    "        centroid_index = np.random.randint(0, rows)\n",
    "        centroids.append(dataset[centroid_index])\n",
    "        \n",
    "    return np.array(centroids)"
   ]
  },
  {
   "cell_type": "code",
   "execution_count": 26,
   "id": "bd424058",
   "metadata": {},
   "outputs": [
    {
     "data": {
      "text/plain": [
       "array([[0.615, 0.47 ],\n",
       "       [0.45 , 0.35 ],\n",
       "       [0.255, 0.19 ]])"
      ]
     },
     "execution_count": 26,
     "metadata": {},
     "output_type": "execute_result"
    }
   ],
   "source": [
    "get_centroids(data, n_cluster=3, random_state=47)"
   ]
  },
  {
   "cell_type": "markdown",
   "id": "df659ac2",
   "metadata": {},
   "source": [
    "### Get the index of the minimum value in a given array"
   ]
  },
  {
   "cell_type": "code",
   "execution_count": 27,
   "id": "14195868",
   "metadata": {},
   "outputs": [],
   "source": [
    "def get_min_index(array):\n",
    "    \"\"\"\n",
    "    Given an array of at least two values, return the index of the minimim value that it contains\n",
    "\n",
    "    Arg(s):\n",
    "        array(array): The list of values where to get the index of the minimum value\n",
    "    Return(s):\n",
    "        index(integer): The index of the minimum value that is in the array\n",
    "    \"\"\"\n",
    "    \n",
    "    if len(array) >= 2:\n",
    "        min_value = array[0]\n",
    "        index = 0\n",
    "\n",
    "        for i in range(len(array)):\n",
    "            if min_value > array[i]:\n",
    "                min_value = array[i]\n",
    "                index = i\n",
    "\n",
    "        return index\n",
    "    else:\n",
    "        return (\"Warning ! The array must contain at least two values ... !\")"
   ]
  },
  {
   "cell_type": "code",
   "execution_count": 28,
   "id": "583931ce",
   "metadata": {},
   "outputs": [
    {
     "name": "stdout",
     "output_type": "stream",
     "text": [
      "[0.415 0.325] 1\n"
     ]
    }
   ],
   "source": [
    "print(data[212], get_min_index(data[212]))"
   ]
  },
  {
   "cell_type": "markdown",
   "id": "baa633f5",
   "metadata": {},
   "source": [
    "### Clustering data of a given dataset using the randomly picked centroids"
   ]
  },
  {
   "cell_type": "code",
   "execution_count": 29,
   "id": "1a451c0d",
   "metadata": {},
   "outputs": [],
   "source": [
    "def clustering(df_values, centroids, n_clusters):\n",
    "    \"\"\"\n",
    "    Clustering data points using the euclidean distance between the observs and the centroid points\n",
    "    \n",
    "    Arg(s):\n",
    "        df_values(np.array): The observations to cluster\n",
    "        centroids(list): The centroid values\n",
    "        n_clusters(integer): The number of clusters chosen\n",
    "    Return(s):\n",
    "        data_per_cluster(list): The clusters of the whole observations\n",
    "    \"\"\"\n",
    "    \n",
    "    data = df_values\n",
    "    distances_per_cluster = {}  \n",
    "    for k_cluster in range(n_clusters):\n",
    "        k_cluster_dist = []\n",
    "        \n",
    "        for observation in data:\n",
    "            k_cluster_dist.append(euclidean_distance(observation, centroids[k_cluster]))\n",
    "            \n",
    "        distances_per_cluster[f'k_{k_cluster}'] = k_cluster_dist\n",
    "        \n",
    "    \"\"\"\n",
    "    In this data set below(distances), every column represent a k cluster. The row represents\n",
    "    the distance between one observation and the whole k clusters.\n",
    "    \"\"\"\n",
    "    distances = pd.DataFrame(data = distances_per_cluster).values\n",
    "    \n",
    "    \"\"\"\n",
    "    Classifying observation, data\n",
    "    \"\"\"\n",
    "    cluster_indexes = []\n",
    "    for row in distances:\n",
    "        cluster_indexes.append(get_min_index(row))\n",
    "\n",
    "    data_per_cluster = []\n",
    "    for k_cluster in range(n_clusters):\n",
    "        classified_observs = []\n",
    "        \n",
    "        for k in range(len(cluster_indexes)):\n",
    "            if k_cluster == cluster_indexes[k]:\n",
    "                \n",
    "                classified_observs.append(data[k])\n",
    "                \n",
    "        data_per_cluster.append(np.array(classified_observs))\n",
    "        \n",
    "    return data_per_cluster"
   ]
  },
  {
   "cell_type": "code",
   "execution_count": 30,
   "id": "e97d61b6",
   "metadata": {},
   "outputs": [],
   "source": [
    "n_cluster = 3\n",
    "centroids = get_centroids(data, n_cluster=n_cluster, random_state=47)\n",
    "test = clustering(df.values, centroids=centroids, n_clusters=n_cluster)"
   ]
  },
  {
   "cell_type": "code",
   "execution_count": 32,
   "id": "b05e4c57",
   "metadata": {},
   "outputs": [
    {
     "data": {
      "text/plain": [
       "array([[0.53 , 0.42 ],\n",
       "       [0.53 , 0.415],\n",
       "       [0.545, 0.425],\n",
       "       ...,\n",
       "       [0.6  , 0.475],\n",
       "       [0.625, 0.485],\n",
       "       [0.71 , 0.555]])"
      ]
     },
     "execution_count": 32,
     "metadata": {},
     "output_type": "execute_result"
    }
   ],
   "source": [
    "test[0]"
   ]
  },
  {
   "cell_type": "markdown",
   "id": "67ea1691",
   "metadata": {},
   "source": [
    "### Getting the centroid as the mean of each previous cluster"
   ]
  },
  {
   "cell_type": "code",
   "execution_count": 33,
   "id": "120f09c5",
   "metadata": {},
   "outputs": [],
   "source": [
    "def get_centroids_mean(data):\n",
    "    \"\"\"\n",
    "    Getting the centroid as the mean of each previous cluster as the new centroid\n",
    "    \n",
    "    Arg(s):\n",
    "        data(list): This is especially the return of clustering function\n",
    "    Return(s):\n",
    "        centroids(np.array): The centroids as means of the previously clustered\n",
    "        data(observations)\n",
    "    \"\"\"\n",
    "    \n",
    "    n_clusters = len(data)\n",
    "    centroids = []\n",
    "    \n",
    "    for k_cluster in range(n_clusters):\n",
    "        centroids.append(data[k_cluster].mean(axis=0))\n",
    "        \n",
    "    return np.array(centroids)"
   ]
  },
  {
   "cell_type": "code",
   "execution_count": 34,
   "id": "2240ab13",
   "metadata": {},
   "outputs": [
    {
     "data": {
      "text/plain": [
       "array([[0.61337256, 0.4819516 ],\n",
       "       [0.45679139, 0.35158609],\n",
       "       [0.28348193, 0.21077108]])"
      ]
     },
     "execution_count": 34,
     "metadata": {},
     "output_type": "execute_result"
    }
   ],
   "source": [
    "get_centroids_mean(test)"
   ]
  },
  {
   "cell_type": "markdown",
   "id": "2caf10bb",
   "metadata": {},
   "source": [
    "### Run K-means clustering n_iterations times"
   ]
  },
  {
   "cell_type": "code",
   "execution_count": 36,
   "id": "d549d50b",
   "metadata": {},
   "outputs": [],
   "source": [
    "def fit(data, n_clusters=3, n_iterations=3, random_state=17):\n",
    "    \"\"\"\n",
    "    Run K-means clustering n_iterations times\n",
    "    \n",
    "    Arg(s):\n",
    "        data(np.array): The data to cluster\n",
    "        n_clusters(inetger): The number of clusters chosen\n",
    "        n_iterations(integer): The n times K-means runs\n",
    "    Return(s):\n",
    "        (tuple): The clusters and the centroids of those clusters\n",
    "    \"\"\"\n",
    "    centroids = get_centroids(data, n_cluster=n_clusters, random_state=47)\n",
    "    clusters = clustering(data, centroids, n_clusters=n_clusters)\n",
    "\n",
    "    if n_iterations <= 0:\n",
    "        print(\"The number of n_iterations must be at least 2 ... !\")\n",
    "\n",
    "    elif n_iterations == 1:\n",
    "        return clusters, centroids\n",
    "    else:\n",
    "        for _ in range(n_iterations):\n",
    "            centroids = get_centroids_mean(clusters)\n",
    "            clusters = clustering(data, centroids, n_clusters=n_clusters)\n",
    "            \n",
    "        return clusters, centroids"
   ]
  },
  {
   "cell_type": "code",
   "execution_count": 37,
   "id": "c32af8aa",
   "metadata": {},
   "outputs": [
    {
     "data": {
      "text/plain": [
       "(<function __main__.clustering(df_values, centroids, n_clusters)>,\n",
       " <function __main__.get_centroids(dataset, n_cluster, random_state)>,\n",
       " <function __main__.get_centroids_mean(data)>,\n",
       " <function __main__.fit(data, n_clusters=3, n_iterations=3, random_state=17)>)"
      ]
     },
     "execution_count": 37,
     "metadata": {},
     "output_type": "execute_result"
    }
   ],
   "source": [
    "clustering, get_centroids, get_centroids_mean, fit"
   ]
  },
  {
   "cell_type": "markdown",
   "id": "e9b47efd",
   "metadata": {},
   "source": [
    "## Run tests on samples"
   ]
  },
  {
   "cell_type": "code",
   "execution_count": 38,
   "id": "5cb770da",
   "metadata": {},
   "outputs": [
    {
     "data": {
      "text/plain": [
       "array([[0.61836561, 0.48603684],\n",
       "       [0.47419158, 0.36637228],\n",
       "       [0.30888605, 0.23040816]])"
      ]
     },
     "execution_count": 38,
     "metadata": {},
     "output_type": "execute_result"
    }
   ],
   "source": [
    "data = df.values\n",
    "F = fit(data, n_clusters=3, n_iterations=3, random_state=7)\n",
    "F[1]"
   ]
  },
  {
   "cell_type": "code",
   "execution_count": 40,
   "id": "8f755ad7",
   "metadata": {},
   "outputs": [
    {
     "data": {
      "text/plain": [
       "array([[0.62371704, 0.49031947],\n",
       "       [0.48630263, 0.37654276],\n",
       "       [0.32053285, 0.24009489]])"
      ]
     },
     "execution_count": 40,
     "metadata": {},
     "output_type": "execute_result"
    }
   ],
   "source": [
    "data = df.values\n",
    "F = fit(data, n_clusters=3, n_iterations=6, random_state=7)\n",
    "F[1]"
   ]
  },
  {
   "cell_type": "code",
   "execution_count": 43,
   "id": "8c6aca47",
   "metadata": {},
   "outputs": [
    {
     "data": {
      "text/plain": [
       "array([[0.62604615, 0.49227583],\n",
       "       [0.49116602, 0.38053941],\n",
       "       [0.32481994, 0.24359418]])"
      ]
     },
     "execution_count": 43,
     "metadata": {},
     "output_type": "execute_result"
    }
   ],
   "source": [
    "data = df.values\n",
    "F = fit(data, n_clusters=3, n_iterations=9, random_state=7)\n",
    "F[1]"
   ]
  },
  {
   "cell_type": "code",
   "execution_count": 44,
   "id": "4040ef75",
   "metadata": {},
   "outputs": [
    {
     "name": "stdout",
     "output_type": "stream",
     "text": [
      "Help on function fit in module __main__:\n",
      "\n",
      "fit(data, n_clusters=3, n_iterations=3, random_state=17)\n",
      "    Run K-means clustering n_iterations times\n",
      "    \n",
      "    Arg(s):\n",
      "        data(np.array): The data to cluster\n",
      "        n_clusters(inetger): The number of clusters chosen\n",
      "        n_iterations(integer): The n times K-means runs\n",
      "    Return(s):\n",
      "        (tuple): The clusters and the centroids of those clusters\n",
      "\n"
     ]
    }
   ],
   "source": [
    "help(fit)"
   ]
  },
  {
   "cell_type": "markdown",
   "id": "67305c11",
   "metadata": {},
   "source": [
    "# Regrouping previous in a class (KMeansFromScratch)\n",
    "<em><b>(This is done in order to handle or process or perform prediction )</b></em>"
   ]
  },
  {
   "cell_type": "code",
   "execution_count": 46,
   "id": "e6b026d8",
   "metadata": {},
   "outputs": [],
   "source": [
    "class KMeansFromScratch(object):\n",
    "    \"\"\"\n",
    "    Implementation of K-means, a clustering machine learning algorithm in the case of\n",
    "    Unsupervised learning from scratch !\n",
    "    \n",
    "    Attributes:\n",
    "        n_clusters(integer): The number of cluster chosen\n",
    "        n_iterations(integer): The number of iterations to run the algorithm\n",
    "        random_state(integer)\n",
    "        centroids_(list): This is a class attribute that contains the centroid values after\n",
    "        training(fit)\n",
    "    \"\"\"\n",
    "    centroids_ = []\n",
    "    \n",
    "    def __init__(self, n_clusters, n_iterations, random_state):\n",
    "        self.n_clusters = n_clusters\n",
    "        self.n_iterations = n_iterations\n",
    "        self.random_state = random_state\n",
    "        \n",
    "    def euclidean_distance(self, X, Y):\n",
    "        \"\"\"\n",
    "        Compute euclidean distance between X and Y\n",
    "\n",
    "        Arg(s):\n",
    "            X(array): List of coordinates\n",
    "            Y(array): List of coordinates\n",
    "        Return(s):\n",
    "            distance(float): The distance between X and Y\n",
    "        \"\"\"\n",
    "        try:\n",
    "            distance = 0\n",
    "            if len(X) == len(Y):\n",
    "                for (x, y) in zip(X, Y):\n",
    "                    distance +=(y - x)**2\n",
    "\n",
    "                return np.round(math.sqrt(distance), 3)\n",
    "            else:\n",
    "                return(\"The args vectors do not have the same length... !\")\n",
    "\n",
    "        except Exception as e:\n",
    "            print('The vectors must be arry or list ... !')\n",
    "            \n",
    "    def get_centroids(self, dataset):\n",
    "        \"\"\"\n",
    "        Getting randomly centroids values\n",
    "\n",
    "        Arg(s):\n",
    "            dataset(numpy.array): The whole observations to cluster\n",
    "        Return(s):\n",
    "            centroids(nump.array): The randomly picked centroids\n",
    "        \"\"\"\n",
    "        np.random.seed(self.random_state)\n",
    "        centroids = []\n",
    "        rows = dataset.shape[0]\n",
    "\n",
    "        for _ in range(self.n_clusters):\n",
    "            centroid_index = np.random.randint(0, rows)\n",
    "\n",
    "            centroids.append(dataset[centroid_index])\n",
    "\n",
    "        return np.array(centroids)\n",
    "    \n",
    "    def get_min_index(slef, array):\n",
    "        \"\"\"\n",
    "        Given an array of at least two values, return the index of the minimim valu that\n",
    "        it contains\n",
    "\n",
    "        Arg(s):\n",
    "            array(array): The list of values where to get the index of the minimum value\n",
    "        Return(s):\n",
    "            index(integer): The index of the minimum value that is in the array\n",
    "        \"\"\"\n",
    "\n",
    "        if len(array) >= 2:\n",
    "            min_value = array[0]\n",
    "            index = 0\n",
    "\n",
    "            for i in range(len(array)):\n",
    "                if min_value > array[i]:\n",
    "                    min_value = array[i]\n",
    "                    index = i\n",
    "\n",
    "            return index\n",
    "        else:\n",
    "            return(\"Warning ! The array must contain at least two values ... !\")\n",
    "    \n",
    "    def get_centroids_mean(self, data):\n",
    "        \"\"\"\n",
    "        Getting the centroid as the mean of each previous cluster as the new centroid\n",
    "\n",
    "        Arg(s):\n",
    "            data(np.array): This is especially the return of clustering function\n",
    "        Return(s):\n",
    "            centroids(np.array): The centroids as means of the previously clustered\n",
    "        \"\"\"\n",
    "\n",
    "        centroids = []\n",
    "\n",
    "        for k_cluster in range(self.n_clusters):\n",
    "            centroids.append(data[k_cluster].mean(axis=0))\n",
    "\n",
    "        return np.array(centroids)\n",
    "\n",
    "        \n",
    "    def clustering(self, data, centroids):\n",
    "        \"\"\"\n",
    "        Clustering data points using the euclidean distance between the observs and the\n",
    "        centroid points\n",
    "\n",
    "        Arg(s):\n",
    "            data(np.array): The observations to cluster\n",
    "            centroids(nump.array): The randomly picked centroids\n",
    "        Return(s):\n",
    "            data_per_cluster(list): The clusters of the whole observations\n",
    "        \"\"\"\n",
    "\n",
    "        temp = {}\n",
    "        for k_cluster in range(self.n_clusters):\n",
    "            liste = []\n",
    "\n",
    "            for observation in data:\n",
    "                liste.append(self.euclidean_distance(observation, centroids[k_cluster]))\n",
    "\n",
    "            temp[f'k_{k_cluster}'] = liste\n",
    "\n",
    "        \"\"\"\n",
    "        In this data set below(distances), every column represents a k cluster.\n",
    "        The row represents. The distance between one observation and the whole k clusters.\n",
    "        \"\"\"\n",
    "        distances = pd.DataFrame(data = temp).values\n",
    "\n",
    "        \"\"\"\n",
    "        Clustering observation, data\n",
    "        \"\"\"\n",
    "        cluster_indexes = []\n",
    "        for row in distances:\n",
    "            cluster_indexes.append(self.get_min_index(row))\n",
    "\n",
    "        data_per_cluster = []\n",
    "        for k_cluster in range(self.n_clusters):\n",
    "            classified_observs = []\n",
    "\n",
    "            for index in range(len(cluster_indexes)):\n",
    "                if k_cluster == cluster_indexes[index]:\n",
    "                    classified_observs.append(data[index])\n",
    "\n",
    "            data_per_cluster.append(np.array(classified_observs))\n",
    "\n",
    "        return data_per_cluster\n",
    "    \n",
    "    def fit(self, data):\n",
    "        \"\"\"\n",
    "        Run K-means clustering n_iterations times\n",
    "\n",
    "        Arg(s):\n",
    "            data(np.array): The data to cluster\n",
    "        Return(s):\n",
    "            (tuple): The clusters and the centroids of those clusters\n",
    "        \"\"\"\n",
    "        try:\n",
    "            centroids = self.get_centroids(data)\n",
    "            clusters = self.clustering(data, centroids)\n",
    "            \n",
    "            if self.n_iterations <= 0:\n",
    "                print(\"The number of iterations must be at least 3 ... !\")\n",
    "\n",
    "            elif self.n_iterations == 1:\n",
    "                return clusters, centroids\n",
    "            else:\n",
    "                print(f\"Before \\n{centroids}\")\n",
    "                for _ in range(self.n_iterations):\n",
    "                    centroids = self.get_centroids_mean(clusters)\n",
    "                    clusters = self.clustering(data, centroids) \n",
    "                    print(f\"In loop\\n{centroids}\")\n",
    "\n",
    "                KMeansFromScratch.centroids_ = centroids\n",
    "                return clusters, centroids\n",
    "\n",
    "        except Exception as e:\n",
    "            print(f\"\"\"This {e} has been returned ! The variable data must have the wrong\n",
    "            data structure ... !\\n Please check the fit function args type by running help(fit)\n",
    "            ... !\"\"\")\n",
    "    \n",
    "    def predict(self, new_entry):\n",
    "        \"\"\"\n",
    "        Predicting a new data point after training the model\n",
    "        \n",
    "        Arg(s):\n",
    "            new_entry(list): The new data point to predict using the built model\n",
    "        Return(s):\n",
    "            (str): The answer of the prediction\n",
    "        \"\"\"\n",
    "        try:\n",
    "            distances = []\n",
    "            centroids = KMeansFromScratch.centroids_\n",
    "            \n",
    "            if len(centroids) != 0:\n",
    "                for centroid in centroids:\n",
    "                    distances.append(self.euclidean_distance(centroid, new_entry))\n",
    "                \n",
    "                cluster = self.get_min_index(distances)\n",
    "                print(f\"\"\" This data point {new_entry} belongs to the cluster {cluster+1}, and distances between\n",
    "                centroids are {distances} !\"\"\")\n",
    "                \n",
    "            else:\n",
    "                print(\"\"\" Oops ! I did it again...!\n",
    "                Please, fit your model by providing the data to the fit method before predicting... !\"\"\")\n",
    "        except Exception as e:\n",
    "            print(f\"This {e} occurs !\")"
   ]
  },
  {
   "cell_type": "markdown",
   "id": "b7b60d39",
   "metadata": {},
   "source": [
    "## Run tests on samples"
   ]
  },
  {
   "cell_type": "code",
   "execution_count": 47,
   "id": "4db54781",
   "metadata": {},
   "outputs": [],
   "source": [
    "data = df.values\n",
    "model = KMeansFromScratch(n_clusters=3, n_iterations=3, random_state=47)\n",
    "centroids = model.get_centroids(data)"
   ]
  },
  {
   "cell_type": "code",
   "execution_count": 48,
   "id": "77684aa1",
   "metadata": {},
   "outputs": [
    {
     "data": {
      "text/plain": [
       "(numpy.ndarray,\n",
       " array([[0.615, 0.47 ],\n",
       "        [0.45 , 0.35 ],\n",
       "        [0.255, 0.19 ]]))"
      ]
     },
     "execution_count": 48,
     "metadata": {},
     "output_type": "execute_result"
    }
   ],
   "source": [
    "type(centroids), centroids"
   ]
  },
  {
   "cell_type": "code",
   "execution_count": 50,
   "id": "e7774777",
   "metadata": {},
   "outputs": [
    {
     "name": "stdout",
     "output_type": "stream",
     "text": [
      "Before \n",
      "[[0.615 0.47 ]\n",
      " [0.45  0.35 ]\n",
      " [0.255 0.19 ]]\n",
      "In loop\n",
      "[[0.61337256 0.4819516 ]\n",
      " [0.45679139 0.35158609]\n",
      " [0.28348193 0.21077108]]\n",
      "In loop\n",
      "[[0.61535243 0.48353115]\n",
      " [0.46542886 0.35895848]\n",
      " [0.29831041 0.22224951]]\n",
      "In loop\n",
      "[[0.61836561 0.48603684]\n",
      " [0.47419158 0.36637228]\n",
      " [0.30888605 0.23040816]]\n"
     ]
    }
   ],
   "source": [
    "results = model.fit(data)"
   ]
  },
  {
   "cell_type": "code",
   "execution_count": 61,
   "id": "847b6981",
   "metadata": {},
   "outputs": [
    {
     "data": {
      "text/plain": [
       "array([[0.61836561, 0.48603684],\n",
       "       [0.47419158, 0.36637228],\n",
       "       [0.30888605, 0.23040816]])"
      ]
     },
     "execution_count": 61,
     "metadata": {},
     "output_type": "execute_result"
    }
   ],
   "source": [
    "results[1]"
   ]
  },
  {
   "cell_type": "code",
   "execution_count": 64,
   "id": "730a7884",
   "metadata": {},
   "outputs": [
    {
     "data": {
      "text/plain": [
       "(numpy.ndarray,\n",
       " array([[0.62059796, 0.48782693],\n",
       "        [0.47954637, 0.37080645],\n",
       "        [0.31420886, 0.23496835]]))"
      ]
     },
     "execution_count": 64,
     "metadata": {},
     "output_type": "execute_result"
    }
   ],
   "source": [
    "c = model.get_centroids_mean(results[0])\n",
    "type(c), c"
   ]
  },
  {
   "cell_type": "code",
   "execution_count": 65,
   "id": "0bc6916b",
   "metadata": {},
   "outputs": [
    {
     "data": {
      "text/plain": [
       "array([[0.61836561, 0.48603684],\n",
       "       [0.47419158, 0.36637228],\n",
       "       [0.30888605, 0.23040816]])"
      ]
     },
     "execution_count": 65,
     "metadata": {},
     "output_type": "execute_result"
    }
   ],
   "source": [
    "model.centroids_"
   ]
  },
  {
   "cell_type": "code",
   "execution_count": 66,
   "id": "168f4437",
   "metadata": {},
   "outputs": [
    {
     "data": {
      "text/plain": [
       "array([[0.61836561, 0.48603684],\n",
       "       [0.47419158, 0.36637228],\n",
       "       [0.30888605, 0.23040816]])"
      ]
     },
     "execution_count": 66,
     "metadata": {},
     "output_type": "execute_result"
    }
   ],
   "source": [
    "results[1]"
   ]
  },
  {
   "cell_type": "code",
   "execution_count": 67,
   "id": "90a96e90",
   "metadata": {},
   "outputs": [
    {
     "name": "stdout",
     "output_type": "stream",
     "text": [
      " This data point [0.33, 0.76] belongs to the cluster 1, and distances between\n",
      "                centroids are [0.398, 0.419, 0.53] !\n"
     ]
    }
   ],
   "source": [
    "model.predict([0.33, 0.76])"
   ]
  },
  {
   "cell_type": "markdown",
   "id": "5ad15af3",
   "metadata": {},
   "source": [
    "## Run tests using `Table Ciqual 2020 dataset`"
   ]
  },
  {
   "cell_type": "code",
   "execution_count": 108,
   "id": "49504cf4",
   "metadata": {},
   "outputs": [],
   "source": [
    "dataset = pd.read_excel('../data/Table Ciqual 2020_FR_2020 07 07.xls')"
   ]
  },
  {
   "cell_type": "code",
   "execution_count": 109,
   "id": "0823b7a1",
   "metadata": {},
   "outputs": [
    {
     "data": {
      "text/plain": [
       "Index(['alim_grp_code', 'alim_ssgrp_code', 'alim_ssssgrp_code',\n",
       "       'alim_grp_nom_fr', 'alim_ssgrp_nom_fr', 'alim_ssssgrp_nom_fr',\n",
       "       'alim_code', 'alim_nom_fr', 'alim_nom_sci',\n",
       "       'Energie, Règlement UE N° 1169/2011 (kJ/100 g)',\n",
       "       'Energie, Règlement UE N° 1169/2011 (kcal/100 g)',\n",
       "       'Energie, N x facteur Jones, avec fibres  (kJ/100 g)',\n",
       "       'Energie, N x facteur Jones, avec fibres  (kcal/100 g)',\n",
       "       'Eau (g/100 g)', 'Protéines, N x facteur de Jones (g/100 g)',\n",
       "       'Protéines, N x 6.25 (g/100 g)', 'Glucides (g/100 g)',\n",
       "       'Lipides (g/100 g)', 'Sucres (g/100 g)', 'Fructose (g/100 g)',\n",
       "       'Galactose (g/100 g)', 'Glucose (g/100 g)', 'Lactose (g/100 g)',\n",
       "       'Maltose (g/100 g)', 'Saccharose (g/100 g)', 'Amidon (g/100 g)',\n",
       "       'Fibres alimentaires (g/100 g)', 'Polyols totaux (g/100 g)',\n",
       "       'Cendres (g/100 g)', 'Alcool (g/100 g)', 'Acides organiques (g/100 g)',\n",
       "       'AG saturés (g/100 g)', 'AG monoinsaturés (g/100 g)',\n",
       "       'AG polyinsaturés (g/100 g)', 'AG 4:0, butyrique (g/100 g)',\n",
       "       'AG 6:0, caproïque (g/100 g)', 'AG 8:0, caprylique (g/100 g)',\n",
       "       'AG 10:0, caprique (g/100 g)', 'AG 12:0, laurique (g/100 g)',\n",
       "       'AG 14:0, myristique (g/100 g)', 'AG 16:0, palmitique (g/100 g)',\n",
       "       'AG 18:0, stéarique (g/100 g)', 'AG 18:1 9c (n-9), oléique (g/100 g)',\n",
       "       'AG 18:2 9c,12c (n-6), linoléique (g/100 g)',\n",
       "       'AG 18:3 c9,c12,c15 (n-3), alpha-linolénique (g/100 g)',\n",
       "       'AG 20:4 5c,8c,11c,14c (n-6), arachidonique (g/100 g)',\n",
       "       'AG 20:5 5c,8c,11c,14c,17c (n-3) EPA (g/100 g)',\n",
       "       'AG 22:6 4c,7c,10c,13c,16c,19c (n-3) DHA (g/100 g)',\n",
       "       'Cholestérol (mg/100 g)', 'Sel chlorure de sodium (g/100 g)',\n",
       "       'Calcium (mg/100 g)', 'Chlorure (mg/100 g)', 'Cuivre (mg/100 g)',\n",
       "       'Fer (mg/100 g)', 'Iode (µg/100 g)', 'Magnésium (mg/100 g)',\n",
       "       'Manganèse (mg/100 g)', 'Phosphore (mg/100 g)', 'Potassium (mg/100 g)',\n",
       "       'Sélénium (µg/100 g)', 'Sodium (mg/100 g)', 'Zinc (mg/100 g)',\n",
       "       'Rétinol (µg/100 g)', 'Beta-Carotène (µg/100 g)',\n",
       "       'Vitamine D (µg/100 g)', 'Vitamine E (mg/100 g)',\n",
       "       'Vitamine K1 (µg/100 g)', 'Vitamine K2 (µg/100 g)',\n",
       "       'Vitamine C (mg/100 g)', 'Vitamine B1 ou Thiamine (mg/100 g)',\n",
       "       'Vitamine B2 ou Riboflavine (mg/100 g)',\n",
       "       'Vitamine B3 ou PP ou Niacine (mg/100 g)',\n",
       "       'Vitamine B5 ou Acide pantothénique (mg/100 g)',\n",
       "       'Vitamine B6 (mg/100 g)', 'Vitamine B9 ou Folates totaux (µg/100 g)',\n",
       "       'Vitamine B12 (µg/100 g)'],\n",
       "      dtype='object')"
      ]
     },
     "execution_count": 109,
     "metadata": {},
     "output_type": "execute_result"
    }
   ],
   "source": [
    "dataset.columns"
   ]
  },
  {
   "cell_type": "code",
   "execution_count": 110,
   "id": "8502d2ba",
   "metadata": {},
   "outputs": [
    {
     "name": "stdout",
     "output_type": "stream",
     "text": [
      "<class 'pandas.core.frame.DataFrame'>\n",
      "RangeIndex: 3186 entries, 0 to 3185\n",
      "Data columns (total 76 columns):\n",
      " #   Column                                                 Non-Null Count  Dtype \n",
      "---  ------                                                 --------------  ----- \n",
      " 0   alim_grp_code                                          3186 non-null   int64 \n",
      " 1   alim_ssgrp_code                                        3186 non-null   int64 \n",
      " 2   alim_ssssgrp_code                                      3186 non-null   int64 \n",
      " 3   alim_grp_nom_fr                                        3141 non-null   object\n",
      " 4   alim_ssgrp_nom_fr                                      3141 non-null   object\n",
      " 5   alim_ssssgrp_nom_fr                                    3141 non-null   object\n",
      " 6   alim_code                                              3186 non-null   int64 \n",
      " 7   alim_nom_fr                                            3186 non-null   object\n",
      " 8   alim_nom_sci                                           270 non-null    object\n",
      " 9   Energie, Règlement UE N° 1169/2011 (kJ/100 g)          3169 non-null   object\n",
      " 10  Energie, Règlement UE N° 1169/2011 (kcal/100 g)        3169 non-null   object\n",
      " 11  Energie, N x facteur Jones, avec fibres  (kJ/100 g)    3169 non-null   object\n",
      " 12  Energie, N x facteur Jones, avec fibres  (kcal/100 g)  3169 non-null   object\n",
      " 13  Eau (g/100 g)                                          3183 non-null   object\n",
      " 14  Protéines, N x facteur de Jones (g/100 g)              3185 non-null   object\n",
      " 15  Protéines, N x 6.25 (g/100 g)                          3185 non-null   object\n",
      " 16  Glucides (g/100 g)                                     3185 non-null   object\n",
      " 17  Lipides (g/100 g)                                      3185 non-null   object\n",
      " 18  Sucres (g/100 g)                                       3177 non-null   object\n",
      " 19  Fructose (g/100 g)                                     3147 non-null   object\n",
      " 20  Galactose (g/100 g)                                    3102 non-null   object\n",
      " 21  Glucose (g/100 g)                                      3148 non-null   object\n",
      " 22  Lactose (g/100 g)                                      3141 non-null   object\n",
      " 23  Maltose (g/100 g)                                      3145 non-null   object\n",
      " 24  Saccharose (g/100 g)                                   3148 non-null   object\n",
      " 25  Amidon (g/100 g)                                       3150 non-null   object\n",
      " 26  Fibres alimentaires (g/100 g)                          3185 non-null   object\n",
      " 27  Polyols totaux (g/100 g)                               3174 non-null   object\n",
      " 28  Cendres (g/100 g)                                      3180 non-null   object\n",
      " 29  Alcool (g/100 g)                                       3185 non-null   object\n",
      " 30  Acides organiques (g/100 g)                            3180 non-null   object\n",
      " 31  AG saturés (g/100 g)                                   3181 non-null   object\n",
      " 32  AG monoinsaturés (g/100 g)                             3177 non-null   object\n",
      " 33  AG polyinsaturés (g/100 g)                             3175 non-null   object\n",
      " 34  AG 4:0, butyrique (g/100 g)                            3153 non-null   object\n",
      " 35  AG 6:0, caproïque (g/100 g)                            3151 non-null   object\n",
      " 36  AG 8:0, caprylique (g/100 g)                           3152 non-null   object\n",
      " 37  AG 10:0, caprique (g/100 g)                            3153 non-null   object\n",
      " 38  AG 12:0, laurique (g/100 g)                            3162 non-null   object\n",
      " 39  AG 14:0, myristique (g/100 g)                          3164 non-null   object\n",
      " 40  AG 16:0, palmitique (g/100 g)                          3164 non-null   object\n",
      " 41  AG 18:0, stéarique (g/100 g)                           3164 non-null   object\n",
      " 42  AG 18:1 9c (n-9), oléique (g/100 g)                    3147 non-null   object\n",
      " 43  AG 18:2 9c,12c (n-6), linoléique (g/100 g)             3147 non-null   object\n",
      " 44  AG 18:3 c9,c12,c15 (n-3), alpha-linolénique (g/100 g)  3150 non-null   object\n",
      " 45  AG 20:4 5c,8c,11c,14c (n-6), arachidonique (g/100 g)   3135 non-null   object\n",
      " 46  AG 20:5 5c,8c,11c,14c,17c (n-3) EPA (g/100 g)          3151 non-null   object\n",
      " 47  AG 22:6 4c,7c,10c,13c,16c,19c (n-3) DHA (g/100 g)      3158 non-null   object\n",
      " 48  Cholestérol (mg/100 g)                                 3165 non-null   object\n",
      " 49  Sel chlorure de sodium (g/100 g)                       3180 non-null   object\n",
      " 50  Calcium (mg/100 g)                                     3176 non-null   object\n",
      " 51  Chlorure (mg/100 g)                                    3134 non-null   object\n",
      " 52  Cuivre (mg/100 g)                                      3168 non-null   object\n",
      " 53  Fer (mg/100 g)                                         3178 non-null   object\n",
      " 54  Iode (µg/100 g)                                        3165 non-null   object\n",
      " 55  Magnésium (mg/100 g)                                   3174 non-null   object\n",
      " 56  Manganèse (mg/100 g)                                   3167 non-null   object\n",
      " 57  Phosphore (mg/100 g)                                   3172 non-null   object\n",
      " 58  Potassium (mg/100 g)                                   3173 non-null   object\n",
      " 59  Sélénium (µg/100 g)                                    3165 non-null   object\n",
      " 60  Sodium (mg/100 g)                                      3180 non-null   object\n",
      " 61  Zinc (mg/100 g)                                        3175 non-null   object\n",
      " 62  Rétinol (µg/100 g)                                     3156 non-null   object\n",
      " 63  Beta-Carotène (µg/100 g)                               3158 non-null   object\n",
      " 64  Vitamine D (µg/100 g)                                  3155 non-null   object\n",
      " 65  Vitamine E (mg/100 g)                                  3168 non-null   object\n",
      " 66  Vitamine K1 (µg/100 g)                                 3123 non-null   object\n",
      " 67  Vitamine K2 (µg/100 g)                                 3071 non-null   object\n",
      " 68  Vitamine C (mg/100 g)                                  3165 non-null   object\n",
      " 69  Vitamine B1 ou Thiamine (mg/100 g)                     3172 non-null   object\n",
      " 70  Vitamine B2 ou Riboflavine (mg/100 g)                  3170 non-null   object\n",
      " 71  Vitamine B3 ou PP ou Niacine (mg/100 g)                3172 non-null   object\n",
      " 72  Vitamine B5 ou Acide pantothénique (mg/100 g)          3165 non-null   object\n",
      " 73  Vitamine B6 (mg/100 g)                                 3172 non-null   object\n",
      " 74  Vitamine B9 ou Folates totaux (µg/100 g)               3166 non-null   object\n",
      " 75  Vitamine B12 (µg/100 g)                                3168 non-null   object\n",
      "dtypes: int64(4), object(72)\n",
      "memory usage: 1.8+ MB\n"
     ]
    }
   ],
   "source": [
    "dataset.info()"
   ]
  },
  {
   "cell_type": "code",
   "execution_count": 239,
   "id": "f323c012",
   "metadata": {},
   "outputs": [],
   "source": [
    "# Energie, Eau, proteïnes, lipides\n",
    "# glucides, \n",
    "headers = ['Energie', 'Eau', 'Protéines', 'Lipides']"
   ]
  },
  {
   "cell_type": "code",
   "execution_count": 240,
   "id": "c2aa8798",
   "metadata": {},
   "outputs": [
    {
     "ename": "KeyError",
     "evalue": "\"None of [Index(['Energie, Règlement UE N° 1169/2011 (kcal/100 g)', 'Eau (g/100 g)',\\n       'Protéines, N x facteur de Jones (g/100 g)', 'Lipides (g/100 g)',\\n       'Sucres (g/100 g)', 'Fructose (g/100 g)', 'Galactose (g/100 g)',\\n       'Glucose (g/100 g)', 'Lactose (g/100 g)', 'Maltose (g/100 g)',\\n       'Saccharose (g/100 g)', 'Amidon (g/100 g)'],\\n      dtype='object')] are in the [columns]\"",
     "output_type": "error",
     "traceback": [
      "\u001b[0;31m---------------------------------------------------------------------------\u001b[0m",
      "\u001b[0;31mKeyError\u001b[0m                                  Traceback (most recent call last)",
      "\u001b[0;32m/tmp/ipykernel_4508/4222693595.py\u001b[0m in \u001b[0;36m<module>\u001b[0;34m\u001b[0m\n\u001b[0;32m----> 1\u001b[0;31m test_data = df_t[['Energie, Règlement UE N° 1169/2011 (kcal/100 g)', 'Eau (g/100 g)', 'Protéines, N x facteur de Jones (g/100 g)',\n\u001b[0m\u001b[1;32m      2\u001b[0m       \u001b[0;34m'Lipides (g/100 g)'\u001b[0m\u001b[0;34m,\u001b[0m \u001b[0;34m'Sucres (g/100 g)'\u001b[0m\u001b[0;34m,\u001b[0m \u001b[0;34m'Fructose (g/100 g)'\u001b[0m\u001b[0;34m,\u001b[0m\u001b[0;34m\u001b[0m\u001b[0;34m\u001b[0m\u001b[0m\n\u001b[1;32m      3\u001b[0m        \u001b[0;34m'Galactose (g/100 g)'\u001b[0m\u001b[0;34m,\u001b[0m \u001b[0;34m'Glucose (g/100 g)'\u001b[0m\u001b[0;34m,\u001b[0m \u001b[0;34m'Lactose (g/100 g)'\u001b[0m\u001b[0;34m,\u001b[0m\u001b[0;34m\u001b[0m\u001b[0;34m\u001b[0m\u001b[0m\n\u001b[1;32m      4\u001b[0m        \u001b[0;34m'Maltose (g/100 g)'\u001b[0m\u001b[0;34m,\u001b[0m \u001b[0;34m'Saccharose (g/100 g)'\u001b[0m\u001b[0;34m,\u001b[0m \u001b[0;34m'Amidon (g/100 g)'\u001b[0m\u001b[0;34m\u001b[0m\u001b[0;34m\u001b[0m\u001b[0m\n\u001b[1;32m      5\u001b[0m      ]]\n",
      "\u001b[0;32m~/Documents/MSD/Projects/Kmeans/base/lib/python3.8/site-packages/pandas/core/frame.py\u001b[0m in \u001b[0;36m__getitem__\u001b[0;34m(self, key)\u001b[0m\n\u001b[1;32m   3459\u001b[0m             \u001b[0;32mif\u001b[0m \u001b[0mis_iterator\u001b[0m\u001b[0;34m(\u001b[0m\u001b[0mkey\u001b[0m\u001b[0;34m)\u001b[0m\u001b[0;34m:\u001b[0m\u001b[0;34m\u001b[0m\u001b[0;34m\u001b[0m\u001b[0m\n\u001b[1;32m   3460\u001b[0m                 \u001b[0mkey\u001b[0m \u001b[0;34m=\u001b[0m \u001b[0mlist\u001b[0m\u001b[0;34m(\u001b[0m\u001b[0mkey\u001b[0m\u001b[0;34m)\u001b[0m\u001b[0;34m\u001b[0m\u001b[0;34m\u001b[0m\u001b[0m\n\u001b[0;32m-> 3461\u001b[0;31m             \u001b[0mindexer\u001b[0m \u001b[0;34m=\u001b[0m \u001b[0mself\u001b[0m\u001b[0;34m.\u001b[0m\u001b[0mloc\u001b[0m\u001b[0;34m.\u001b[0m\u001b[0m_get_listlike_indexer\u001b[0m\u001b[0;34m(\u001b[0m\u001b[0mkey\u001b[0m\u001b[0;34m,\u001b[0m \u001b[0maxis\u001b[0m\u001b[0;34m=\u001b[0m\u001b[0;36m1\u001b[0m\u001b[0;34m)\u001b[0m\u001b[0;34m[\u001b[0m\u001b[0;36m1\u001b[0m\u001b[0;34m]\u001b[0m\u001b[0;34m\u001b[0m\u001b[0;34m\u001b[0m\u001b[0m\n\u001b[0m\u001b[1;32m   3462\u001b[0m \u001b[0;34m\u001b[0m\u001b[0m\n\u001b[1;32m   3463\u001b[0m         \u001b[0;31m# take() does not accept boolean indexers\u001b[0m\u001b[0;34m\u001b[0m\u001b[0;34m\u001b[0m\u001b[0;34m\u001b[0m\u001b[0m\n",
      "\u001b[0;32m~/Documents/MSD/Projects/Kmeans/base/lib/python3.8/site-packages/pandas/core/indexing.py\u001b[0m in \u001b[0;36m_get_listlike_indexer\u001b[0;34m(self, key, axis)\u001b[0m\n\u001b[1;32m   1312\u001b[0m             \u001b[0mkeyarr\u001b[0m\u001b[0;34m,\u001b[0m \u001b[0mindexer\u001b[0m\u001b[0;34m,\u001b[0m \u001b[0mnew_indexer\u001b[0m \u001b[0;34m=\u001b[0m \u001b[0max\u001b[0m\u001b[0;34m.\u001b[0m\u001b[0m_reindex_non_unique\u001b[0m\u001b[0;34m(\u001b[0m\u001b[0mkeyarr\u001b[0m\u001b[0;34m)\u001b[0m\u001b[0;34m\u001b[0m\u001b[0;34m\u001b[0m\u001b[0m\n\u001b[1;32m   1313\u001b[0m \u001b[0;34m\u001b[0m\u001b[0m\n\u001b[0;32m-> 1314\u001b[0;31m         \u001b[0mself\u001b[0m\u001b[0;34m.\u001b[0m\u001b[0m_validate_read_indexer\u001b[0m\u001b[0;34m(\u001b[0m\u001b[0mkeyarr\u001b[0m\u001b[0;34m,\u001b[0m \u001b[0mindexer\u001b[0m\u001b[0;34m,\u001b[0m \u001b[0maxis\u001b[0m\u001b[0;34m)\u001b[0m\u001b[0;34m\u001b[0m\u001b[0;34m\u001b[0m\u001b[0m\n\u001b[0m\u001b[1;32m   1315\u001b[0m \u001b[0;34m\u001b[0m\u001b[0m\n\u001b[1;32m   1316\u001b[0m         if needs_i8_conversion(ax.dtype) or isinstance(\n",
      "\u001b[0;32m~/Documents/MSD/Projects/Kmeans/base/lib/python3.8/site-packages/pandas/core/indexing.py\u001b[0m in \u001b[0;36m_validate_read_indexer\u001b[0;34m(self, key, indexer, axis)\u001b[0m\n\u001b[1;32m   1372\u001b[0m                 \u001b[0;32mif\u001b[0m \u001b[0muse_interval_msg\u001b[0m\u001b[0;34m:\u001b[0m\u001b[0;34m\u001b[0m\u001b[0;34m\u001b[0m\u001b[0m\n\u001b[1;32m   1373\u001b[0m                     \u001b[0mkey\u001b[0m \u001b[0;34m=\u001b[0m \u001b[0mlist\u001b[0m\u001b[0;34m(\u001b[0m\u001b[0mkey\u001b[0m\u001b[0;34m)\u001b[0m\u001b[0;34m\u001b[0m\u001b[0;34m\u001b[0m\u001b[0m\n\u001b[0;32m-> 1374\u001b[0;31m                 \u001b[0;32mraise\u001b[0m \u001b[0mKeyError\u001b[0m\u001b[0;34m(\u001b[0m\u001b[0;34mf\"None of [{key}] are in the [{axis_name}]\"\u001b[0m\u001b[0;34m)\u001b[0m\u001b[0;34m\u001b[0m\u001b[0;34m\u001b[0m\u001b[0m\n\u001b[0m\u001b[1;32m   1375\u001b[0m \u001b[0;34m\u001b[0m\u001b[0m\n\u001b[1;32m   1376\u001b[0m             \u001b[0mnot_found\u001b[0m \u001b[0;34m=\u001b[0m \u001b[0mlist\u001b[0m\u001b[0;34m(\u001b[0m\u001b[0mensure_index\u001b[0m\u001b[0;34m(\u001b[0m\u001b[0mkey\u001b[0m\u001b[0;34m)\u001b[0m\u001b[0;34m[\u001b[0m\u001b[0mmissing_mask\u001b[0m\u001b[0;34m.\u001b[0m\u001b[0mnonzero\u001b[0m\u001b[0;34m(\u001b[0m\u001b[0;34m)\u001b[0m\u001b[0;34m[\u001b[0m\u001b[0;36m0\u001b[0m\u001b[0;34m]\u001b[0m\u001b[0;34m]\u001b[0m\u001b[0;34m.\u001b[0m\u001b[0munique\u001b[0m\u001b[0;34m(\u001b[0m\u001b[0;34m)\u001b[0m\u001b[0;34m)\u001b[0m\u001b[0;34m\u001b[0m\u001b[0;34m\u001b[0m\u001b[0m\n",
      "\u001b[0;31mKeyError\u001b[0m: \"None of [Index(['Energie, Règlement UE N° 1169/2011 (kcal/100 g)', 'Eau (g/100 g)',\\n       'Protéines, N x facteur de Jones (g/100 g)', 'Lipides (g/100 g)',\\n       'Sucres (g/100 g)', 'Fructose (g/100 g)', 'Galactose (g/100 g)',\\n       'Glucose (g/100 g)', 'Lactose (g/100 g)', 'Maltose (g/100 g)',\\n       'Saccharose (g/100 g)', 'Amidon (g/100 g)'],\\n      dtype='object')] are in the [columns]\""
     ]
    }
   ],
   "source": [
    "test_data = df_t[['Energie, Règlement UE N° 1169/2011 (kcal/100 g)', 'Eau (g/100 g)', 'Protéines, N x facteur de Jones (g/100 g)',\n",
    "      'Lipides (g/100 g)', 'Sucres (g/100 g)', 'Fructose (g/100 g)',\n",
    "       'Galactose (g/100 g)', 'Glucose (g/100 g)', 'Lactose (g/100 g)',\n",
    "       'Maltose (g/100 g)', 'Saccharose (g/100 g)', 'Amidon (g/100 g)'\n",
    "     ]]"
   ]
  },
  {
   "cell_type": "code",
   "execution_count": null,
   "id": "6d6d9a9c",
   "metadata": {},
   "outputs": [],
   "source": [
    "1.81+2.18+1.89+1.07+15.7+9.53"
   ]
  },
  {
   "cell_type": "code",
   "execution_count": null,
   "id": "02d15dcb",
   "metadata": {},
   "outputs": [],
   "source": [
    "t = test_data.dropna(axis=0)"
   ]
  },
  {
   "cell_type": "code",
   "execution_count": null,
   "id": "1f303ec2",
   "metadata": {},
   "outputs": [],
   "source": [
    "d = t[['Eau (g/100 g)','Protéines, N x facteur de Jones (g/100 g)']]astype"
   ]
  },
  {
   "cell_type": "code",
   "execution_count": 241,
   "id": "b9880c9c",
   "metadata": {},
   "outputs": [
    {
     "ename": "NameError",
     "evalue": "name 'd' is not defined",
     "output_type": "error",
     "traceback": [
      "\u001b[0;31m---------------------------------------------------------------------------\u001b[0m",
      "\u001b[0;31mNameError\u001b[0m                                 Traceback (most recent call last)",
      "\u001b[0;32m/tmp/ipykernel_4508/678005047.py\u001b[0m in \u001b[0;36m<module>\u001b[0;34m\u001b[0m\n\u001b[0;32m----> 1\u001b[0;31m \u001b[0md\u001b[0m\u001b[0;34m.\u001b[0m\u001b[0mastype\u001b[0m\u001b[0;34m(\u001b[0m\u001b[0;34m'float'\u001b[0m\u001b[0;34m)\u001b[0m\u001b[0;34m\u001b[0m\u001b[0;34m\u001b[0m\u001b[0m\n\u001b[0m",
      "\u001b[0;31mNameError\u001b[0m: name 'd' is not defined"
     ]
    }
   ],
   "source": [
    "d.astype('float')"
   ]
  },
  {
   "cell_type": "code",
   "execution_count": 79,
   "id": "fb7ab7a1",
   "metadata": {},
   "outputs": [],
   "source": [
    "import unittest"
   ]
  },
  {
   "cell_type": "code",
   "execution_count": 80,
   "id": "4f835ec0",
   "metadata": {},
   "outputs": [],
   "source": [
    "class TestKMeansFromScratchMethods(unittest.TestCase):\n",
    "    \"\"\"\n",
    "    Unit test in order to ensure that our previous class methods run always as defined,\n",
    "    implemented, and correctly.\n",
    "\n",
    "    \"\"\"\n",
    "    kmeans = KMeansFromScratch(n_clusters=3, n_iterations=2, random_state=47)\n",
    "\n",
    "    def test_euclidean_distance(self):\n",
    "        \"\"\"\"\"\"\n",
    "        X = [2, 2]\n",
    "        Y = [3, 2]\n",
    "        self.assertEqual(self.kmeans.euclidean_distance(X, Y), 1.0)\n",
    "\n",
    "    def test_get_centroids(self):\n",
    "        \"\"\"\"\"\"\n",
    "        data = np.array([[2, 2, 4], [3, 4, 5], [3, 6, 8], [0, 7, 8], [29, 0, 6]])\n",
    "        centroids = self.kmeans.get_centroids(data)\n",
    "\n",
    "        self.assertEqual(len(centroids), self.kmeans.n_clusters)"
   ]
  },
  {
   "cell_type": "code",
   "execution_count": 81,
   "id": "454c57cf",
   "metadata": {},
   "outputs": [
    {
     "name": "stderr",
     "output_type": "stream",
     "text": [
      "E\n",
      "======================================================================\n",
      "ERROR: /home/alain/ (unittest.loader._FailedTest)\n",
      "----------------------------------------------------------------------\n",
      "AttributeError: module '__main__' has no attribute '/home/alain/'\n",
      "\n",
      "----------------------------------------------------------------------\n",
      "Ran 1 test in 0.003s\n",
      "\n",
      "FAILED (errors=1)\n"
     ]
    },
    {
     "ename": "SystemExit",
     "evalue": "True",
     "output_type": "error",
     "traceback": [
      "An exception has occurred, use %tb to see the full traceback.\n",
      "\u001b[0;31mSystemExit\u001b[0m\u001b[0;31m:\u001b[0m True\n"
     ]
    },
    {
     "name": "stderr",
     "output_type": "stream",
     "text": [
      "/home/alain/Documents/MSD/Projects/Kmeans/base/lib/python3.8/site-packages/IPython/core/interactiveshell.py:3449: UserWarning: To exit: use 'exit', 'quit', or Ctrl-D.\n",
      "  warn(\"To exit: use 'exit', 'quit', or Ctrl-D.\", stacklevel=1)\n"
     ]
    }
   ],
   "source": [
    "unittest.main()"
   ]
  },
  {
   "cell_type": "code",
   "execution_count": null,
   "id": "4eeb1af0",
   "metadata": {},
   "outputs": [],
   "source": []
  }
 ],
 "metadata": {
  "kernelspec": {
   "display_name": "Python 3 (ipykernel)",
   "language": "python",
   "name": "python3"
  },
  "language_info": {
   "codemirror_mode": {
    "name": "ipython",
    "version": 3
   },
   "file_extension": ".py",
   "mimetype": "text/x-python",
   "name": "python",
   "nbconvert_exporter": "python",
   "pygments_lexer": "ipython3",
   "version": "3.8.10"
  }
 },
 "nbformat": 4,
 "nbformat_minor": 5
}
