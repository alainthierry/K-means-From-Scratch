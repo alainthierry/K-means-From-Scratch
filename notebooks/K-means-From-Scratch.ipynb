{
 "cells": [
  {
   "cell_type": "markdown",
   "id": "25612746",
   "metadata": {},
   "source": [
    "# K-means from scratch Implementation\n",
    "<em><b>(Implementation of K-means, a clustering machine learning algorithm in the case of Unsupervised learning from scratch)</b></em><br>\n",
    "Some K-means explanation resources, <a href=\"https://www.sciencedirect.com/science/article/pii/S1875389212006220\">A Clustering Method Based on K-Means Algorithm</a>,\n",
    "<a href=\"https://scikit-learn.org/stable/modules/generated/sklearn.cluster.KMeans.html\">scikit-learn K-means</a>, \n",
    "<a href=\"https://towardsdatascience.com/the-5-clustering-algorithms-data-scientists-need-to-know-a36d136ef68\">The 5 Clustering Algorithms Data Scientists Need to Know</a>"
   ]
  },
  {
   "cell_type": "code",
   "execution_count": 1,
   "id": "9b21ccaa",
   "metadata": {},
   "outputs": [],
   "source": [
    "%matplotlib inline\n",
    "import math\n",
    "import numpy as np\n",
    "import pandas as pd\n",
    "import matplotlib.pyplot as plt\n",
    "import seaborn as sns"
   ]
  },
  {
   "cell_type": "markdown",
   "id": "5d090313",
   "metadata": {},
   "source": [
    "### Compute euclidean distance\n",
    "<em>This function allows computiting the distance between two given points</em>"
   ]
  },
  {
   "cell_type": "code",
   "execution_count": 2,
   "id": "15111c90",
   "metadata": {},
   "outputs": [],
   "source": [
    "def euclidean_distance(X, Y):\n",
    "    \"\"\"\n",
    "    Compute euclidean distance between X and Y\n",
    "    \n",
    "    Arg(s):\n",
    "        X(array): X_coordinates\n",
    "        Y(array): Y_coordinates\n",
    "    Return(s):\n",
    "        distance(float): The distance between X and Y\n",
    "    \"\"\"\n",
    "    try:\n",
    "        if len(X) == len(Y):\n",
    "            distance = 0\n",
    "            for (x, y) in zip(X, Y):\n",
    "                distance +=(y - x)**2\n",
    "                \n",
    "            return np.round(math.sqrt(distance), 3)\n",
    "        else:\n",
    "            print(\"The two vectors do not have the same length ... !\")\n",
    "            return 0\n",
    "            \n",
    "    except Exception as e:\n",
    "        print('The vectors must be arry or list ... !')"
   ]
  },
  {
   "cell_type": "markdown",
   "id": "19106e00",
   "metadata": {},
   "source": [
    "###     Get randomly the controid values\n",
    "<em>This function randomly returns the centroids value picked from the data set </em>"
   ]
  },
  {
   "cell_type": "code",
   "execution_count": 3,
   "id": "069ff7b9",
   "metadata": {},
   "outputs": [],
   "source": [
    "def get_centroids(dataset, n_cluster, random_state):\n",
    "    \"\"\"\n",
    "    Getting randomly centroids values\n",
    "    \n",
    "    Arg(s):\n",
    "        dataset(numpy.array): The whole observations to cluster\n",
    "        n_cluster(int): The number of clusters chosen\n",
    "        random_state(integer)\n",
    "    Return(s):\n",
    "        centroids(nump.array): The randomly picked centroids\n",
    "    \"\"\"\n",
    "    np.random.seed(random_state)\n",
    "    centroids = []\n",
    "    rows = dataset.shape[0]\n",
    "    \n",
    "    for _ in range(n_cluster):\n",
    "        centroid_index = np.random.randint(0, rows)\n",
    "        centroids.append(dataset[centroid_index])\n",
    "        \n",
    "    return np.array(centroids)"
   ]
  },
  {
   "cell_type": "markdown",
   "id": "df659ac2",
   "metadata": {},
   "source": [
    "### Get the index of the minimum value in a given array\n",
    "<em>    Given an array of at least two values, return the index of the minimim value that it contains </em>"
   ]
  },
  {
   "cell_type": "code",
   "execution_count": 4,
   "id": "14195868",
   "metadata": {},
   "outputs": [],
   "source": [
    "def get_min_index(array):\n",
    "    \"\"\"\n",
    "    Given an array of at least two values, return the index of the minimim value that it contains\n",
    "\n",
    "    Arg(s):\n",
    "        array(array): The list of values where to get the index of the minimum value\n",
    "    Return(s):\n",
    "        index(integer): The index of the minimum value that is in the array\n",
    "    \"\"\"\n",
    "    \n",
    "    if len(array) >= 2:\n",
    "        min_value = array[0]\n",
    "        index = 0\n",
    "\n",
    "        for i in range(len(array)):\n",
    "            if min_value > array[i]:\n",
    "                min_value = array[i]\n",
    "                index = i\n",
    "\n",
    "        return index\n",
    "    else:\n",
    "        return (\"Warning ! The array must contain at least two values ... !\")"
   ]
  },
  {
   "cell_type": "markdown",
   "id": "baa633f5",
   "metadata": {},
   "source": [
    "### Clustering data of a given dataset using the randomly picked centroids\n",
    "<em>Clustering data points using the euclidean distance between the observs and the centroid points. Each data point is classified by computing the distance between that point and each <b>groud center(centroid)</b>.</em>"
   ]
  },
  {
   "cell_type": "code",
   "execution_count": 5,
   "id": "1a451c0d",
   "metadata": {},
   "outputs": [],
   "source": [
    "def clustering(df_values, centroids, n_clusters):\n",
    "    \"\"\"\n",
    "    Clustering data points using the euclidean distance between the observs and the centroid points\n",
    "    \n",
    "    Arg(s):\n",
    "        df_values(np.array): The observations to cluster\n",
    "        centroids(list): The centroid values\n",
    "        n_clusters(integer): The number of clusters chosen\n",
    "    Return(s):\n",
    "        data_per_cluster(list): The clusters of the whole observations\n",
    "        cluster_indexes(list): The clusters' indexes\n",
    "    \"\"\"\n",
    "    \n",
    "    data = df_values\n",
    "    distances_per_cluster = {}  \n",
    "    for k_cluster in range(n_clusters):\n",
    "        k_cluster_dist = []\n",
    "        \n",
    "        for observation in data:\n",
    "            k_cluster_dist.append(euclidean_distance(observation, centroids[k_cluster]))\n",
    "            \n",
    "        distances_per_cluster[f'k_{k_cluster}'] = k_cluster_dist\n",
    "        \n",
    "    \"\"\"\n",
    "    In this data set below(distances), every column represent a k cluster. The row represents\n",
    "    the distance between one observation and the whole k clusters.\n",
    "    \"\"\"\n",
    "    distances = pd.DataFrame(data = distances_per_cluster).values\n",
    "    \n",
    "    \"\"\"\n",
    "    Classifying observation, data\n",
    "    \"\"\"\n",
    "    cluster_indexes = []\n",
    "    for row in distances:\n",
    "        cluster_indexes.append(get_min_index(row))\n",
    "\n",
    "    data_per_cluster = []\n",
    "    for k_cluster in range(n_clusters):\n",
    "        classified_observs = []\n",
    "        \n",
    "        for k in range(len(cluster_indexes)):\n",
    "            if k_cluster == cluster_indexes[k]:\n",
    "                \n",
    "                classified_observs.append(data[k])\n",
    "                \n",
    "        data_per_cluster.append(np.array(classified_observs))\n",
    "        \n",
    "    return data_per_cluster, cluster_indexes"
   ]
  },
  {
   "cell_type": "markdown",
   "id": "67ea1691",
   "metadata": {},
   "source": [
    "### Getting the centroid as the mean of each previous cluster\n",
    "<em>    Getting the centroid as the mean of each previous cluster as the new centroid </em>"
   ]
  },
  {
   "cell_type": "code",
   "execution_count": 6,
   "id": "120f09c5",
   "metadata": {},
   "outputs": [],
   "source": [
    "def get_centroids_mean(data):\n",
    "    \"\"\"\n",
    "    Getting the centroid as the mean of each previous cluster as the new centroid\n",
    "    \n",
    "    Arg(s):\n",
    "        data(list): This is especially the return of clustering function\n",
    "    Return(s):\n",
    "        centroids(np.array): The centroids as means of the previously clustered\n",
    "        data(observations)\n",
    "    \"\"\"\n",
    "    \n",
    "    n_clusters = len(data)\n",
    "    centroids = []\n",
    "    \n",
    "    for k_cluster in range(n_clusters):\n",
    "        centroids.append(data[k_cluster].mean(axis=0))\n",
    "        \n",
    "    return np.array(centroids)"
   ]
  },
  {
   "cell_type": "markdown",
   "id": "2caf10bb",
   "metadata": {},
   "source": [
    "### Run K-means clustering n_iterations times\n",
    "<em>    Run K-means clustering n_iterations times </em>"
   ]
  },
  {
   "cell_type": "code",
   "execution_count": 7,
   "id": "d549d50b",
   "metadata": {},
   "outputs": [],
   "source": [
    "def fit(data, n_clusters=3, n_iterations=3, random_state=17):\n",
    "    \"\"\"\n",
    "    Run K-means clustering n_iterations times\n",
    "    \n",
    "    Arg(s):\n",
    "        data(np.array): The data to cluster\n",
    "        n_clusters(inetger): The number of clusters chosen\n",
    "        n_iterations(integer): The n times K-means runs\n",
    "    Return(s):\n",
    "        clusters(list): The clusters after fitting\n",
    "        cluster_indexes(list): The clusters' indexes\n",
    "        centroids(np.array): The centroids of those clusters\n",
    "    \"\"\"\n",
    "    centroids = get_centroids(data, n_cluster=n_clusters, random_state=47)\n",
    "    clusters, cluster_indexes = clustering(data, centroids, n_clusters=n_clusters)\n",
    "\n",
    "    if n_iterations <= 0:\n",
    "        print(\"The number of n_iterations must be at least 2 ... !\")\n",
    "\n",
    "    elif n_iterations == 1:\n",
    "        return clusters, cluster_indexes, centroids\n",
    "    else:\n",
    "        for _ in range(n_iterations):\n",
    "            centroids = get_centroids_mean(clusters)\n",
    "            clusters,  = clustering(data, centroids, n_clusters=n_clusters)\n",
    "            \n",
    "        return clusters, cluster_indexes, centroids"
   ]
  },
  {
   "cell_type": "code",
   "execution_count": 8,
   "id": "c32af8aa",
   "metadata": {},
   "outputs": [
    {
     "data": {
      "text/plain": [
       "(<function __main__.clustering(df_values, centroids, n_clusters)>,\n",
       " <function __main__.get_centroids(dataset, n_cluster, random_state)>,\n",
       " <function __main__.get_centroids_mean(data)>,\n",
       " <function __main__.fit(data, n_clusters=3, n_iterations=3, random_state=17)>)"
      ]
     },
     "execution_count": 8,
     "metadata": {},
     "output_type": "execute_result"
    }
   ],
   "source": [
    "clustering, get_centroids, get_centroids_mean, fit"
   ]
  },
  {
   "cell_type": "markdown",
   "id": "e9b47efd",
   "metadata": {},
   "source": [
    "## Run tests on samples"
   ]
  },
  {
   "cell_type": "code",
   "execution_count": 9,
   "id": "4040ef75",
   "metadata": {},
   "outputs": [
    {
     "name": "stdout",
     "output_type": "stream",
     "text": [
      "Help on function fit in module __main__:\n",
      "\n",
      "fit(data, n_clusters=3, n_iterations=3, random_state=17)\n",
      "    Run K-means clustering n_iterations times\n",
      "    \n",
      "    Arg(s):\n",
      "        data(np.array): The data to cluster\n",
      "        n_clusters(inetger): The number of clusters chosen\n",
      "        n_iterations(integer): The n times K-means runs\n",
      "    Return(s):\n",
      "        clusters(list): The clusters after fitting\n",
      "        cluster_indexes(list): The clusters' indexes\n",
      "        centroids(np.array): The centroids of those clusters\n",
      "\n"
     ]
    }
   ],
   "source": [
    "help(fit)"
   ]
  },
  {
   "cell_type": "markdown",
   "id": "67305c11",
   "metadata": {},
   "source": [
    "# Regrouping previous in a class (KMeansFromScratch)\n",
    "<em>(This is done in order to handle or process or perform prediction )</em>"
   ]
  },
  {
   "cell_type": "code",
   "execution_count": 50,
   "id": "e6b026d8",
   "metadata": {},
   "outputs": [],
   "source": [
    "class KMeansFromScratch(object):\n",
    "    \"\"\"\n",
    "    Implementation of K-means, a clustering machine learning algorithm in the case of\n",
    "    Unsupervised learning from scratch !\n",
    "    \n",
    "    Attributes:\n",
    "        n_clusters(integer): The number of cluster chosen\n",
    "        n_iterations(integer): The number of iterations to run the algorithm\n",
    "        random_state(integer)\n",
    "        centroids_(list): This is a class attribute that contains the centroid values after\n",
    "        clusters_(list): List of clustered data\n",
    "        training(fit)\n",
    "    \"\"\"\n",
    "    centroids_ = []\n",
    "    \n",
    "    def __init__(self, n_clusters, n_iterations, random_state):\n",
    "        self.n_clusters = n_clusters\n",
    "        self.n_iterations = n_iterations\n",
    "        self.random_state = random_state\n",
    "        \n",
    "    def euclidean_distance(self, X, Y):\n",
    "        \"\"\"\n",
    "        Compute euclidean distance between X and Y\n",
    "\n",
    "        Arg(s):\n",
    "            X(array): List of coordinates\n",
    "            Y(array): List of coordinates\n",
    "        Return(s):\n",
    "            distance(float): The distance between X and Y\n",
    "        \"\"\"\n",
    "        try:\n",
    "            distance = 0\n",
    "            if len(X) == len(Y):\n",
    "                for (x, y) in zip(X, Y):\n",
    "                    distance +=(y - x)**2\n",
    "\n",
    "                return math.sqrt(distance)\n",
    "            else:\n",
    "                return(\"The args vectors do not have the same length... !\")\n",
    "\n",
    "        except Exception as e:\n",
    "            print('The vectors must be arry or list ... !')\n",
    "            \n",
    "    def get_centroids(self, dataset):\n",
    "        \"\"\"\n",
    "        Getting randomly centroids values\n",
    "\n",
    "        Arg(s):\n",
    "            dataset(numpy.array): The whole observations to cluster\n",
    "        Return(s):\n",
    "            centroids(nump.array): The randomly picked centroids\n",
    "        \"\"\"\n",
    "        np.random.seed(self.random_state)\n",
    "        centroids = []\n",
    "        rows = dataset.shape[0]\n",
    "\n",
    "        for _ in range(self.n_clusters):\n",
    "            centroid_index = np.random.randint(0, rows)\n",
    "\n",
    "            centroids.append(dataset[centroid_index])\n",
    "\n",
    "        return np.array(centroids)\n",
    "    \n",
    "    def get_min_index(slef, array):\n",
    "        \"\"\"\n",
    "        Given an array of at least two values, return the index of the minimim valu that\n",
    "        it contains\n",
    "\n",
    "        Arg(s):\n",
    "            array(array): The list of values where to get the index of the minimum value\n",
    "        Return(s):\n",
    "            index(integer): The index of the minimum value that is in the array\n",
    "        \"\"\"\n",
    "\n",
    "        if len(array) >= 2:\n",
    "            min_value = array[0]\n",
    "            index = 0\n",
    "\n",
    "            for i in range(len(array)):\n",
    "                if min_value > array[i]:\n",
    "                    min_value = array[i]\n",
    "                    index = i\n",
    "\n",
    "            return index\n",
    "        else:\n",
    "            return(\"Warning ! The array must contain at least two values ... !\")\n",
    "    \n",
    "    def get_centroids_mean(self, data):\n",
    "        \"\"\"\n",
    "        Getting the centroid as the mean of each previous cluster as the new centroid\n",
    "\n",
    "        Arg(s):\n",
    "            data(np.array): This is especially the return of clustering function\n",
    "        Return(s):\n",
    "            centroids(np.array): The centroids as means of the previously clustered\n",
    "        \"\"\"\n",
    "\n",
    "        centroids = []\n",
    "\n",
    "        for k_cluster in range(self.n_clusters):\n",
    "            centroids.append(data[k_cluster].mean(axis=0))\n",
    "\n",
    "        return np.array(centroids)\n",
    "\n",
    "        \n",
    "    def clustering(self, data, centroids):\n",
    "        \"\"\"\n",
    "        Clustering data points using the euclidean distance between the observs and the\n",
    "        centroid points\n",
    "\n",
    "        Arg(s):\n",
    "            data(np.array): The observations to cluster\n",
    "            centroids(nump.array): The randomly picked centroids\n",
    "        Return(s):\n",
    "            data_per_cluster(list): The clusters of the whole observations\n",
    "            cluster_indexes(list): The clusters' indexes\n",
    "        \"\"\"\n",
    "\n",
    "        temp = {}\n",
    "        for k_cluster in range(self.n_clusters):\n",
    "            liste = []\n",
    "\n",
    "            for observation in data:\n",
    "                liste.append(self.euclidean_distance(observation, centroids[k_cluster]))\n",
    "\n",
    "            temp[f'k_{k_cluster}'] = liste\n",
    "\n",
    "        \"\"\"\n",
    "        In this data set below(distances), every column represents a k cluster.\n",
    "        The row represents. The distance between one observation and the whole k clusters.\n",
    "        \"\"\"\n",
    "        distances = pd.DataFrame(data = temp).values\n",
    "\n",
    "        \"\"\"\n",
    "        Clustering observation, data\n",
    "        \"\"\"\n",
    "        cluster_indexes = []\n",
    "        for row in distances:\n",
    "            cluster_indexes.append(self.get_min_index(row))\n",
    "\n",
    "        data_per_cluster = []\n",
    "        for k_cluster in range(self.n_clusters):\n",
    "            classified_observs = []\n",
    "\n",
    "            for index in range(len(cluster_indexes)):\n",
    "                if k_cluster == cluster_indexes[index]:\n",
    "                    classified_observs.append(data[index])\n",
    "\n",
    "            data_per_cluster.append(np.array(classified_observs))\n",
    "\n",
    "        return data_per_cluster, cluster_indexes\n",
    "    \n",
    "    def fit(self, data):\n",
    "        \"\"\"\n",
    "        Run K-means clustering n_iterations times\n",
    "\n",
    "        Arg(s):\n",
    "            data(np.array): The data to cluster\n",
    "        Return(s):\n",
    "            (list): The clusters after fitting\n",
    "            cluster_indexes(list): The clusters' indexes\n",
    "        \"\"\"\n",
    "        try:\n",
    "            centroids = self.get_centroids(data)\n",
    "            clusters, cluster_indexes = self.clustering(data, centroids)\n",
    "            \n",
    "            if self.n_iterations <= 0:\n",
    "                print(\"The number of iterations must be at least 3 ... !\")\n",
    "\n",
    "            elif self.n_iterations == 1:\n",
    "                KMeansFromScratch.centroids_ = centroids\n",
    "                KMeansFromScratch.clusters_ = clusters\n",
    "                \n",
    "                return clusters, cluster_indexes\n",
    "            else:\n",
    "                for _ in range(self.n_iterations):\n",
    "                    centroids = self.get_centroids_mean(clusters)\n",
    "                    clusters, cluster_indexes = self.clustering(data, centroids) \n",
    "                    \n",
    "                KMeansFromScratch.centroids_ = centroids\n",
    "                KMeansFromScratch.clusters_ = clusters\n",
    "                \n",
    "                return clusters, cluster_indexes\n",
    "\n",
    "        except Exception as e:\n",
    "            print(f\"\"\"This {e} has been returned ! The variable data must have the wrong\n",
    "            data structure ... !\\n Please check the fit function args type by running help(fit)\n",
    "            ... !\"\"\")\n",
    "            \n",
    "    def inertia(self):\n",
    "        \"\"\"\n",
    "        This computes the inertia value, the lower is the inertia, the better the model is.\n",
    "        Sum squares of the difference of each data point and its closest centroid.\n",
    "        \n",
    "        Return(s):\n",
    "            inertia_value(float): The inertia value\n",
    "        \"\"\"\n",
    "        centroids = KMeansFromScratch.centroids_\n",
    "        clusters = KMeansFromScratch.clusters_\n",
    "        inertia_value = 0\n",
    "        \n",
    "        for index in range(self.n_clusters):\n",
    "            \n",
    "            for cluster_row in clusters[index]:\n",
    "                inertia_value +=np.linalg.norm(cluster_row - centroids[index])**2\n",
    "                \n",
    "        return inertia_value\n",
    "    \n",
    "    \n",
    "    def predict(self, new_entry):\n",
    "        \"\"\"\n",
    "        Predicting a new data point after training the model\n",
    "        \n",
    "        Arg(s):\n",
    "            new_entry(list): The new data point to predict using the built model\n",
    "        Return(s):\n",
    "            (str): The answer of the prediction\n",
    "        \"\"\"\n",
    "        try:\n",
    "            distances = []\n",
    "            centroids = KMeansFromScratch.centroids_\n",
    "            \n",
    "            if len(centroids) != 0:\n",
    "                for centroid in centroids:\n",
    "                    distances.append(self.euclidean_distance(centroid, new_entry))\n",
    "                \n",
    "                cluster = self.get_min_index(distances)\n",
    "                print(f\"\"\" This data point {new_entry} belongs to the cluster {cluster+1}, and distances between\n",
    "                centroids are {distances} !\"\"\")\n",
    "                \n",
    "            else:\n",
    "                print(\"\"\" Oops ! I did it again...!\n",
    "                Please, fit your model by providing the data to the fit method before predicting... !\"\"\")\n",
    "        except Exception as e:\n",
    "            print(f\"This {e} occurs !\")"
   ]
  },
  {
   "cell_type": "markdown",
   "id": "5ad15af3",
   "metadata": {},
   "source": [
    "## Run tests using `Table Ciqual 2020 dataset`"
   ]
  },
  {
   "cell_type": "markdown",
   "id": "fdc62ead",
   "metadata": {},
   "source": [
    "### Pre-processing"
   ]
  },
  {
   "cell_type": "code",
   "execution_count": 12,
   "id": "49504cf4",
   "metadata": {},
   "outputs": [],
   "source": [
    "dataset = pd.read_excel('../data/Table Ciqual 2020_FR_2020 07 07.xls')"
   ]
  },
  {
   "cell_type": "code",
   "execution_count": 13,
   "id": "0823b7a1",
   "metadata": {},
   "outputs": [
    {
     "data": {
      "text/plain": [
       "Index(['alim_grp_code', 'alim_ssgrp_code', 'alim_ssssgrp_code',\n",
       "       'alim_grp_nom_fr', 'alim_ssgrp_nom_fr', 'alim_ssssgrp_nom_fr',\n",
       "       'alim_code', 'alim_nom_fr', 'alim_nom_sci',\n",
       "       'Energie, Règlement UE N° 1169/2011 (kJ/100 g)',\n",
       "       'Energie, Règlement UE N° 1169/2011 (kcal/100 g)',\n",
       "       'Energie, N x facteur Jones, avec fibres  (kJ/100 g)',\n",
       "       'Energie, N x facteur Jones, avec fibres  (kcal/100 g)',\n",
       "       'Eau (g/100 g)', 'Protéines, N x facteur de Jones (g/100 g)',\n",
       "       'Protéines, N x 6.25 (g/100 g)', 'Glucides (g/100 g)',\n",
       "       'Lipides (g/100 g)', 'Sucres (g/100 g)', 'Fructose (g/100 g)',\n",
       "       'Galactose (g/100 g)', 'Glucose (g/100 g)', 'Lactose (g/100 g)',\n",
       "       'Maltose (g/100 g)', 'Saccharose (g/100 g)', 'Amidon (g/100 g)',\n",
       "       'Fibres alimentaires (g/100 g)', 'Polyols totaux (g/100 g)',\n",
       "       'Cendres (g/100 g)', 'Alcool (g/100 g)', 'Acides organiques (g/100 g)',\n",
       "       'AG saturés (g/100 g)', 'AG monoinsaturés (g/100 g)',\n",
       "       'AG polyinsaturés (g/100 g)', 'AG 4:0, butyrique (g/100 g)',\n",
       "       'AG 6:0, caproïque (g/100 g)', 'AG 8:0, caprylique (g/100 g)',\n",
       "       'AG 10:0, caprique (g/100 g)', 'AG 12:0, laurique (g/100 g)',\n",
       "       'AG 14:0, myristique (g/100 g)', 'AG 16:0, palmitique (g/100 g)',\n",
       "       'AG 18:0, stéarique (g/100 g)', 'AG 18:1 9c (n-9), oléique (g/100 g)',\n",
       "       'AG 18:2 9c,12c (n-6), linoléique (g/100 g)',\n",
       "       'AG 18:3 c9,c12,c15 (n-3), alpha-linolénique (g/100 g)',\n",
       "       'AG 20:4 5c,8c,11c,14c (n-6), arachidonique (g/100 g)',\n",
       "       'AG 20:5 5c,8c,11c,14c,17c (n-3) EPA (g/100 g)',\n",
       "       'AG 22:6 4c,7c,10c,13c,16c,19c (n-3) DHA (g/100 g)',\n",
       "       'Cholestérol (mg/100 g)', 'Sel chlorure de sodium (g/100 g)',\n",
       "       'Calcium (mg/100 g)', 'Chlorure (mg/100 g)', 'Cuivre (mg/100 g)',\n",
       "       'Fer (mg/100 g)', 'Iode (µg/100 g)', 'Magnésium (mg/100 g)',\n",
       "       'Manganèse (mg/100 g)', 'Phosphore (mg/100 g)', 'Potassium (mg/100 g)',\n",
       "       'Sélénium (µg/100 g)', 'Sodium (mg/100 g)', 'Zinc (mg/100 g)',\n",
       "       'Rétinol (µg/100 g)', 'Beta-Carotène (µg/100 g)',\n",
       "       'Vitamine D (µg/100 g)', 'Vitamine E (mg/100 g)',\n",
       "       'Vitamine K1 (µg/100 g)', 'Vitamine K2 (µg/100 g)',\n",
       "       'Vitamine C (mg/100 g)', 'Vitamine B1 ou Thiamine (mg/100 g)',\n",
       "       'Vitamine B2 ou Riboflavine (mg/100 g)',\n",
       "       'Vitamine B3 ou PP ou Niacine (mg/100 g)',\n",
       "       'Vitamine B5 ou Acide pantothénique (mg/100 g)',\n",
       "       'Vitamine B6 (mg/100 g)', 'Vitamine B9 ou Folates totaux (µg/100 g)',\n",
       "       'Vitamine B12 (µg/100 g)'],\n",
       "      dtype='object')"
      ]
     },
     "execution_count": 13,
     "metadata": {},
     "output_type": "execute_result"
    }
   ],
   "source": [
    "dataset.columns\n",
    "# Energie, Eau, proteines, glucides, lipides"
   ]
  },
  {
   "cell_type": "code",
   "execution_count": 14,
   "id": "cf077cf3",
   "metadata": {},
   "outputs": [
    {
     "name": "stdout",
     "output_type": "stream",
     "text": [
      "<class 'pandas.core.frame.DataFrame'>\n",
      "RangeIndex: 3186 entries, 0 to 3185\n",
      "Data columns (total 76 columns):\n",
      " #   Column                                                 Non-Null Count  Dtype \n",
      "---  ------                                                 --------------  ----- \n",
      " 0   alim_grp_code                                          3186 non-null   int64 \n",
      " 1   alim_ssgrp_code                                        3186 non-null   int64 \n",
      " 2   alim_ssssgrp_code                                      3186 non-null   int64 \n",
      " 3   alim_grp_nom_fr                                        3141 non-null   object\n",
      " 4   alim_ssgrp_nom_fr                                      3141 non-null   object\n",
      " 5   alim_ssssgrp_nom_fr                                    3141 non-null   object\n",
      " 6   alim_code                                              3186 non-null   int64 \n",
      " 7   alim_nom_fr                                            3186 non-null   object\n",
      " 8   alim_nom_sci                                           270 non-null    object\n",
      " 9   Energie, Règlement UE N° 1169/2011 (kJ/100 g)          3169 non-null   object\n",
      " 10  Energie, Règlement UE N° 1169/2011 (kcal/100 g)        3169 non-null   object\n",
      " 11  Energie, N x facteur Jones, avec fibres  (kJ/100 g)    3169 non-null   object\n",
      " 12  Energie, N x facteur Jones, avec fibres  (kcal/100 g)  3169 non-null   object\n",
      " 13  Eau (g/100 g)                                          3183 non-null   object\n",
      " 14  Protéines, N x facteur de Jones (g/100 g)              3185 non-null   object\n",
      " 15  Protéines, N x 6.25 (g/100 g)                          3185 non-null   object\n",
      " 16  Glucides (g/100 g)                                     3185 non-null   object\n",
      " 17  Lipides (g/100 g)                                      3185 non-null   object\n",
      " 18  Sucres (g/100 g)                                       3177 non-null   object\n",
      " 19  Fructose (g/100 g)                                     3147 non-null   object\n",
      " 20  Galactose (g/100 g)                                    3102 non-null   object\n",
      " 21  Glucose (g/100 g)                                      3148 non-null   object\n",
      " 22  Lactose (g/100 g)                                      3141 non-null   object\n",
      " 23  Maltose (g/100 g)                                      3145 non-null   object\n",
      " 24  Saccharose (g/100 g)                                   3148 non-null   object\n",
      " 25  Amidon (g/100 g)                                       3150 non-null   object\n",
      " 26  Fibres alimentaires (g/100 g)                          3185 non-null   object\n",
      " 27  Polyols totaux (g/100 g)                               3174 non-null   object\n",
      " 28  Cendres (g/100 g)                                      3180 non-null   object\n",
      " 29  Alcool (g/100 g)                                       3185 non-null   object\n",
      " 30  Acides organiques (g/100 g)                            3180 non-null   object\n",
      " 31  AG saturés (g/100 g)                                   3181 non-null   object\n",
      " 32  AG monoinsaturés (g/100 g)                             3177 non-null   object\n",
      " 33  AG polyinsaturés (g/100 g)                             3175 non-null   object\n",
      " 34  AG 4:0, butyrique (g/100 g)                            3153 non-null   object\n",
      " 35  AG 6:0, caproïque (g/100 g)                            3151 non-null   object\n",
      " 36  AG 8:0, caprylique (g/100 g)                           3152 non-null   object\n",
      " 37  AG 10:0, caprique (g/100 g)                            3153 non-null   object\n",
      " 38  AG 12:0, laurique (g/100 g)                            3162 non-null   object\n",
      " 39  AG 14:0, myristique (g/100 g)                          3164 non-null   object\n",
      " 40  AG 16:0, palmitique (g/100 g)                          3164 non-null   object\n",
      " 41  AG 18:0, stéarique (g/100 g)                           3164 non-null   object\n",
      " 42  AG 18:1 9c (n-9), oléique (g/100 g)                    3147 non-null   object\n",
      " 43  AG 18:2 9c,12c (n-6), linoléique (g/100 g)             3147 non-null   object\n",
      " 44  AG 18:3 c9,c12,c15 (n-3), alpha-linolénique (g/100 g)  3150 non-null   object\n",
      " 45  AG 20:4 5c,8c,11c,14c (n-6), arachidonique (g/100 g)   3135 non-null   object\n",
      " 46  AG 20:5 5c,8c,11c,14c,17c (n-3) EPA (g/100 g)          3151 non-null   object\n",
      " 47  AG 22:6 4c,7c,10c,13c,16c,19c (n-3) DHA (g/100 g)      3158 non-null   object\n",
      " 48  Cholestérol (mg/100 g)                                 3165 non-null   object\n",
      " 49  Sel chlorure de sodium (g/100 g)                       3180 non-null   object\n",
      " 50  Calcium (mg/100 g)                                     3176 non-null   object\n",
      " 51  Chlorure (mg/100 g)                                    3134 non-null   object\n",
      " 52  Cuivre (mg/100 g)                                      3168 non-null   object\n",
      " 53  Fer (mg/100 g)                                         3178 non-null   object\n",
      " 54  Iode (µg/100 g)                                        3165 non-null   object\n",
      " 55  Magnésium (mg/100 g)                                   3174 non-null   object\n",
      " 56  Manganèse (mg/100 g)                                   3167 non-null   object\n",
      " 57  Phosphore (mg/100 g)                                   3172 non-null   object\n",
      " 58  Potassium (mg/100 g)                                   3173 non-null   object\n",
      " 59  Sélénium (µg/100 g)                                    3165 non-null   object\n",
      " 60  Sodium (mg/100 g)                                      3180 non-null   object\n",
      " 61  Zinc (mg/100 g)                                        3175 non-null   object\n",
      " 62  Rétinol (µg/100 g)                                     3156 non-null   object\n",
      " 63  Beta-Carotène (µg/100 g)                               3158 non-null   object\n",
      " 64  Vitamine D (µg/100 g)                                  3155 non-null   object\n",
      " 65  Vitamine E (mg/100 g)                                  3168 non-null   object\n",
      " 66  Vitamine K1 (µg/100 g)                                 3123 non-null   object\n",
      " 67  Vitamine K2 (µg/100 g)                                 3071 non-null   object\n",
      " 68  Vitamine C (mg/100 g)                                  3165 non-null   object\n",
      " 69  Vitamine B1 ou Thiamine (mg/100 g)                     3172 non-null   object\n",
      " 70  Vitamine B2 ou Riboflavine (mg/100 g)                  3170 non-null   object\n",
      " 71  Vitamine B3 ou PP ou Niacine (mg/100 g)                3172 non-null   object\n",
      " 72  Vitamine B5 ou Acide pantothénique (mg/100 g)          3165 non-null   object\n",
      " 73  Vitamine B6 (mg/100 g)                                 3172 non-null   object\n",
      " 74  Vitamine B9 ou Folates totaux (µg/100 g)               3166 non-null   object\n",
      " 75  Vitamine B12 (µg/100 g)                                3168 non-null   object\n",
      "dtypes: int64(4), object(72)\n",
      "memory usage: 1.8+ MB\n"
     ]
    }
   ],
   "source": [
    "dataset.info()"
   ]
  },
  {
   "cell_type": "markdown",
   "id": "0e051e7f",
   "metadata": {},
   "source": [
    "### Pre-processing"
   ]
  },
  {
   "cell_type": "code",
   "execution_count": 15,
   "id": "d7ce5346",
   "metadata": {},
   "outputs": [],
   "source": [
    "# Energie, Eau, proteines, glucides, lipides\n",
    "\n",
    "dataset.rename(columns={'Energie, N x facteur Jones, avec fibres  (kcal/100 g)' : 'energie'}, inplace=True)\n",
    "dataset.rename(columns={'Eau (g/100 g)': 'eau'}, inplace=True)\n",
    "dataset.rename(columns={'Protéines, N x facteur de Jones (g/100 g)' : 'proteines'}, inplace=True)\n",
    "dataset.rename(columns={'Glucides (g/100 g)' : 'glucides'}, inplace=True)\n",
    "dataset.rename(columns={'Lipides (g/100 g)' : 'lipides'}, inplace=True)"
   ]
  },
  {
   "cell_type": "code",
   "execution_count": 16,
   "id": "b221ad0e",
   "metadata": {},
   "outputs": [
    {
     "data": {
      "text/plain": [
       "'proteines'"
      ]
     },
     "execution_count": 16,
     "metadata": {},
     "output_type": "execute_result"
    }
   ],
   "source": [
    "dataset.columns[14]"
   ]
  },
  {
   "cell_type": "code",
   "execution_count": 17,
   "id": "e946022b",
   "metadata": {},
   "outputs": [
    {
     "data": {
      "text/plain": [
       "17"
      ]
     },
     "execution_count": 17,
     "metadata": {},
     "output_type": "execute_result"
    }
   ],
   "source": [
    "dataset['energie'].isnull().sum()"
   ]
  },
  {
   "cell_type": "code",
   "execution_count": 18,
   "id": "721eb1df",
   "metadata": {},
   "outputs": [
    {
     "data": {
      "text/html": [
       "<div>\n",
       "<style scoped>\n",
       "    .dataframe tbody tr th:only-of-type {\n",
       "        vertical-align: middle;\n",
       "    }\n",
       "\n",
       "    .dataframe tbody tr th {\n",
       "        vertical-align: top;\n",
       "    }\n",
       "\n",
       "    .dataframe thead th {\n",
       "        text-align: right;\n",
       "    }\n",
       "</style>\n",
       "<table border=\"1\" class=\"dataframe\">\n",
       "  <thead>\n",
       "    <tr style=\"text-align: right;\">\n",
       "      <th></th>\n",
       "      <th>energie</th>\n",
       "      <th>eau</th>\n",
       "      <th>proteines</th>\n",
       "      <th>glucides</th>\n",
       "      <th>lipides</th>\n",
       "    </tr>\n",
       "  </thead>\n",
       "  <tbody>\n",
       "    <tr>\n",
       "      <th>0</th>\n",
       "      <td>NaN</td>\n",
       "      <td>45,4</td>\n",
       "      <td>4,63</td>\n",
       "      <td>36,6</td>\n",
       "      <td>12,9</td>\n",
       "    </tr>\n",
       "    <tr>\n",
       "      <th>1</th>\n",
       "      <td>-</td>\n",
       "      <td>76,5</td>\n",
       "      <td>9,15</td>\n",
       "      <td>7,74</td>\n",
       "      <td>4,7</td>\n",
       "    </tr>\n",
       "    <tr>\n",
       "      <th>2</th>\n",
       "      <td>-</td>\n",
       "      <td>76,7</td>\n",
       "      <td>8,06</td>\n",
       "      <td>6,4</td>\n",
       "      <td>5,3</td>\n",
       "    </tr>\n",
       "    <tr>\n",
       "      <th>3</th>\n",
       "      <td>-</td>\n",
       "      <td>85,2</td>\n",
       "      <td>2,08</td>\n",
       "      <td>3,95</td>\n",
       "      <td>3,55</td>\n",
       "    </tr>\n",
       "    <tr>\n",
       "      <th>4</th>\n",
       "      <td>-</td>\n",
       "      <td>76</td>\n",
       "      <td>2,68</td>\n",
       "      <td>9,9</td>\n",
       "      <td>8,2</td>\n",
       "    </tr>\n",
       "  </tbody>\n",
       "</table>\n",
       "</div>"
      ],
      "text/plain": [
       "  energie   eau proteines glucides lipides\n",
       "0     NaN  45,4      4,63     36,6    12,9\n",
       "1       -  76,5      9,15     7,74     4,7\n",
       "2       -  76,7      8,06      6,4     5,3\n",
       "3       -  85,2      2,08     3,95    3,55\n",
       "4       -    76      2,68      9,9     8,2"
      ]
     },
     "execution_count": 18,
     "metadata": {},
     "output_type": "execute_result"
    }
   ],
   "source": [
    "headers = ['energie', 'eau', 'proteines', 'glucides', 'lipides']\n",
    "data_frame = dataset[headers]\n",
    "data_frame.head()"
   ]
  },
  {
   "cell_type": "code",
   "execution_count": 19,
   "id": "6dd2d680",
   "metadata": {},
   "outputs": [
    {
     "data": {
      "text/html": [
       "<div>\n",
       "<style scoped>\n",
       "    .dataframe tbody tr th:only-of-type {\n",
       "        vertical-align: middle;\n",
       "    }\n",
       "\n",
       "    .dataframe tbody tr th {\n",
       "        vertical-align: top;\n",
       "    }\n",
       "\n",
       "    .dataframe thead th {\n",
       "        text-align: right;\n",
       "    }\n",
       "</style>\n",
       "<table border=\"1\" class=\"dataframe\">\n",
       "  <thead>\n",
       "    <tr style=\"text-align: right;\">\n",
       "      <th></th>\n",
       "      <th>energie</th>\n",
       "      <th>eau</th>\n",
       "      <th>proteines</th>\n",
       "      <th>glucides</th>\n",
       "      <th>lipides</th>\n",
       "    </tr>\n",
       "  </thead>\n",
       "  <tbody>\n",
       "    <tr>\n",
       "      <th>0</th>\n",
       "      <td>NaN</td>\n",
       "      <td>45,4</td>\n",
       "      <td>4,63</td>\n",
       "      <td>36,6</td>\n",
       "      <td>12,9</td>\n",
       "    </tr>\n",
       "    <tr>\n",
       "      <th>1</th>\n",
       "      <td>NaN</td>\n",
       "      <td>76,5</td>\n",
       "      <td>9,15</td>\n",
       "      <td>7,74</td>\n",
       "      <td>4,7</td>\n",
       "    </tr>\n",
       "    <tr>\n",
       "      <th>2</th>\n",
       "      <td>NaN</td>\n",
       "      <td>76,7</td>\n",
       "      <td>8,06</td>\n",
       "      <td>6,4</td>\n",
       "      <td>5,3</td>\n",
       "    </tr>\n",
       "    <tr>\n",
       "      <th>3</th>\n",
       "      <td>NaN</td>\n",
       "      <td>85,2</td>\n",
       "      <td>2,08</td>\n",
       "      <td>3,95</td>\n",
       "      <td>3,55</td>\n",
       "    </tr>\n",
       "    <tr>\n",
       "      <th>4</th>\n",
       "      <td>NaN</td>\n",
       "      <td>76</td>\n",
       "      <td>2,68</td>\n",
       "      <td>9,9</td>\n",
       "      <td>8,2</td>\n",
       "    </tr>\n",
       "    <tr>\n",
       "      <th>...</th>\n",
       "      <td>...</td>\n",
       "      <td>...</td>\n",
       "      <td>...</td>\n",
       "      <td>...</td>\n",
       "      <td>...</td>\n",
       "    </tr>\n",
       "    <tr>\n",
       "      <th>3181</th>\n",
       "      <td>100</td>\n",
       "      <td>77,7</td>\n",
       "      <td>3,19</td>\n",
       "      <td>12,5</td>\n",
       "      <td>3,5</td>\n",
       "    </tr>\n",
       "    <tr>\n",
       "      <th>3182</th>\n",
       "      <td>393</td>\n",
       "      <td>2,2</td>\n",
       "      <td>5,1</td>\n",
       "      <td>88,3</td>\n",
       "      <td>1,7</td>\n",
       "    </tr>\n",
       "    <tr>\n",
       "      <th>3183</th>\n",
       "      <td>391</td>\n",
       "      <td>1,8</td>\n",
       "      <td>10</td>\n",
       "      <td>81,1</td>\n",
       "      <td>2</td>\n",
       "    </tr>\n",
       "    <tr>\n",
       "      <th>3184</th>\n",
       "      <td>439</td>\n",
       "      <td>3</td>\n",
       "      <td>7,5</td>\n",
       "      <td>73,3</td>\n",
       "      <td>12,3</td>\n",
       "    </tr>\n",
       "    <tr>\n",
       "      <th>3185</th>\n",
       "      <td>396</td>\n",
       "      <td>1,2</td>\n",
       "      <td>8,5</td>\n",
       "      <td>85</td>\n",
       "      <td>1,9</td>\n",
       "    </tr>\n",
       "  </tbody>\n",
       "</table>\n",
       "<p>3186 rows × 5 columns</p>\n",
       "</div>"
      ],
      "text/plain": [
       "     energie   eau proteines glucides lipides\n",
       "0        NaN  45,4      4,63     36,6    12,9\n",
       "1        NaN  76,5      9,15     7,74     4,7\n",
       "2        NaN  76,7      8,06      6,4     5,3\n",
       "3        NaN  85,2      2,08     3,95    3,55\n",
       "4        NaN    76      2,68      9,9     8,2\n",
       "...      ...   ...       ...      ...     ...\n",
       "3181     100  77,7      3,19     12,5     3,5\n",
       "3182     393   2,2       5,1     88,3     1,7\n",
       "3183     391   1,8        10     81,1       2\n",
       "3184     439     3       7,5     73,3    12,3\n",
       "3185     396   1,2       8,5       85     1,9\n",
       "\n",
       "[3186 rows x 5 columns]"
      ]
     },
     "execution_count": 19,
     "metadata": {},
     "output_type": "execute_result"
    }
   ],
   "source": [
    "data_frame = data_frame.replace('-', np.NaN)\n",
    "data_frame"
   ]
  },
  {
   "cell_type": "code",
   "execution_count": 20,
   "id": "f8c7f0f7",
   "metadata": {},
   "outputs": [
    {
     "data": {
      "text/html": [
       "<div>\n",
       "<style scoped>\n",
       "    .dataframe tbody tr th:only-of-type {\n",
       "        vertical-align: middle;\n",
       "    }\n",
       "\n",
       "    .dataframe tbody tr th {\n",
       "        vertical-align: top;\n",
       "    }\n",
       "\n",
       "    .dataframe thead th {\n",
       "        text-align: right;\n",
       "    }\n",
       "</style>\n",
       "<table border=\"1\" class=\"dataframe\">\n",
       "  <thead>\n",
       "    <tr style=\"text-align: right;\">\n",
       "      <th></th>\n",
       "      <th>energie</th>\n",
       "      <th>eau</th>\n",
       "      <th>proteines</th>\n",
       "      <th>glucides</th>\n",
       "      <th>lipides</th>\n",
       "    </tr>\n",
       "  </thead>\n",
       "  <tbody>\n",
       "    <tr>\n",
       "      <th>0</th>\n",
       "      <td>NaN</td>\n",
       "      <td>45,4</td>\n",
       "      <td>4,63</td>\n",
       "      <td>36,6</td>\n",
       "      <td>12,9</td>\n",
       "    </tr>\n",
       "    <tr>\n",
       "      <th>1</th>\n",
       "      <td>NaN</td>\n",
       "      <td>76,5</td>\n",
       "      <td>9,15</td>\n",
       "      <td>7,74</td>\n",
       "      <td>4,7</td>\n",
       "    </tr>\n",
       "    <tr>\n",
       "      <th>2</th>\n",
       "      <td>NaN</td>\n",
       "      <td>76,7</td>\n",
       "      <td>8,06</td>\n",
       "      <td>6,4</td>\n",
       "      <td>5,3</td>\n",
       "    </tr>\n",
       "    <tr>\n",
       "      <th>3</th>\n",
       "      <td>NaN</td>\n",
       "      <td>85,2</td>\n",
       "      <td>2,08</td>\n",
       "      <td>3,95</td>\n",
       "      <td>3,55</td>\n",
       "    </tr>\n",
       "    <tr>\n",
       "      <th>4</th>\n",
       "      <td>NaN</td>\n",
       "      <td>76</td>\n",
       "      <td>2,68</td>\n",
       "      <td>9,9</td>\n",
       "      <td>8,2</td>\n",
       "    </tr>\n",
       "    <tr>\n",
       "      <th>...</th>\n",
       "      <td>...</td>\n",
       "      <td>...</td>\n",
       "      <td>...</td>\n",
       "      <td>...</td>\n",
       "      <td>...</td>\n",
       "    </tr>\n",
       "    <tr>\n",
       "      <th>3181</th>\n",
       "      <td>100</td>\n",
       "      <td>77,7</td>\n",
       "      <td>3,19</td>\n",
       "      <td>12,5</td>\n",
       "      <td>3,5</td>\n",
       "    </tr>\n",
       "    <tr>\n",
       "      <th>3182</th>\n",
       "      <td>393</td>\n",
       "      <td>2,2</td>\n",
       "      <td>5,1</td>\n",
       "      <td>88,3</td>\n",
       "      <td>1,7</td>\n",
       "    </tr>\n",
       "    <tr>\n",
       "      <th>3183</th>\n",
       "      <td>391</td>\n",
       "      <td>1,8</td>\n",
       "      <td>10</td>\n",
       "      <td>81,1</td>\n",
       "      <td>2</td>\n",
       "    </tr>\n",
       "    <tr>\n",
       "      <th>3184</th>\n",
       "      <td>439</td>\n",
       "      <td>3</td>\n",
       "      <td>7,5</td>\n",
       "      <td>73,3</td>\n",
       "      <td>12,3</td>\n",
       "    </tr>\n",
       "    <tr>\n",
       "      <th>3185</th>\n",
       "      <td>396</td>\n",
       "      <td>1,2</td>\n",
       "      <td>8,5</td>\n",
       "      <td>85</td>\n",
       "      <td>1,9</td>\n",
       "    </tr>\n",
       "  </tbody>\n",
       "</table>\n",
       "<p>3186 rows × 5 columns</p>\n",
       "</div>"
      ],
      "text/plain": [
       "     energie   eau proteines glucides lipides\n",
       "0        NaN  45,4      4,63     36,6    12,9\n",
       "1        NaN  76,5      9,15     7,74     4,7\n",
       "2        NaN  76,7      8,06      6,4     5,3\n",
       "3        NaN  85,2      2,08     3,95    3,55\n",
       "4        NaN    76      2,68      9,9     8,2\n",
       "...      ...   ...       ...      ...     ...\n",
       "3181     100  77,7      3,19     12,5     3,5\n",
       "3182     393   2,2       5,1     88,3     1,7\n",
       "3183     391   1,8        10     81,1       2\n",
       "3184     439     3       7,5     73,3    12,3\n",
       "3185     396   1,2       8,5       85     1,9\n",
       "\n",
       "[3186 rows x 5 columns]"
      ]
     },
     "execution_count": 20,
     "metadata": {},
     "output_type": "execute_result"
    }
   ],
   "source": [
    "data_frame = data_frame.replace('traces', np.NaN)\n",
    "data_frame"
   ]
  },
  {
   "cell_type": "code",
   "execution_count": 21,
   "id": "d214626e",
   "metadata": {},
   "outputs": [
    {
     "data": {
      "text/html": [
       "<div>\n",
       "<style scoped>\n",
       "    .dataframe tbody tr th:only-of-type {\n",
       "        vertical-align: middle;\n",
       "    }\n",
       "\n",
       "    .dataframe tbody tr th {\n",
       "        vertical-align: top;\n",
       "    }\n",
       "\n",
       "    .dataframe thead th {\n",
       "        text-align: right;\n",
       "    }\n",
       "</style>\n",
       "<table border=\"1\" class=\"dataframe\">\n",
       "  <thead>\n",
       "    <tr style=\"text-align: right;\">\n",
       "      <th></th>\n",
       "      <th>energie</th>\n",
       "      <th>eau</th>\n",
       "      <th>proteines</th>\n",
       "      <th>glucides</th>\n",
       "      <th>lipides</th>\n",
       "    </tr>\n",
       "  </thead>\n",
       "  <tbody>\n",
       "    <tr>\n",
       "      <th>5</th>\n",
       "      <td>179</td>\n",
       "      <td>60,3</td>\n",
       "      <td>4,88</td>\n",
       "      <td>23,7</td>\n",
       "      <td>6,7</td>\n",
       "    </tr>\n",
       "    <tr>\n",
       "      <th>6</th>\n",
       "      <td>130</td>\n",
       "      <td>75,8</td>\n",
       "      <td>4,5</td>\n",
       "      <td>8,87</td>\n",
       "      <td>8,3</td>\n",
       "    </tr>\n",
       "    <tr>\n",
       "      <th>9</th>\n",
       "      <td>29,9</td>\n",
       "      <td>93,2</td>\n",
       "      <td>0,94</td>\n",
       "      <td>3,07</td>\n",
       "      <td>0,7</td>\n",
       "    </tr>\n",
       "    <tr>\n",
       "      <th>13</th>\n",
       "      <td>167</td>\n",
       "      <td>65,5</td>\n",
       "      <td>3,79</td>\n",
       "      <td>17,4</td>\n",
       "      <td>8,3</td>\n",
       "    </tr>\n",
       "    <tr>\n",
       "      <th>16</th>\n",
       "      <td>105</td>\n",
       "      <td>80,4</td>\n",
       "      <td>0,94</td>\n",
       "      <td>5,78</td>\n",
       "      <td>8,1</td>\n",
       "    </tr>\n",
       "    <tr>\n",
       "      <th>...</th>\n",
       "      <td>...</td>\n",
       "      <td>...</td>\n",
       "      <td>...</td>\n",
       "      <td>...</td>\n",
       "      <td>...</td>\n",
       "    </tr>\n",
       "    <tr>\n",
       "      <th>3181</th>\n",
       "      <td>100</td>\n",
       "      <td>77,7</td>\n",
       "      <td>3,19</td>\n",
       "      <td>12,5</td>\n",
       "      <td>3,5</td>\n",
       "    </tr>\n",
       "    <tr>\n",
       "      <th>3182</th>\n",
       "      <td>393</td>\n",
       "      <td>2,2</td>\n",
       "      <td>5,1</td>\n",
       "      <td>88,3</td>\n",
       "      <td>1,7</td>\n",
       "    </tr>\n",
       "    <tr>\n",
       "      <th>3183</th>\n",
       "      <td>391</td>\n",
       "      <td>1,8</td>\n",
       "      <td>10</td>\n",
       "      <td>81,1</td>\n",
       "      <td>2</td>\n",
       "    </tr>\n",
       "    <tr>\n",
       "      <th>3184</th>\n",
       "      <td>439</td>\n",
       "      <td>3</td>\n",
       "      <td>7,5</td>\n",
       "      <td>73,3</td>\n",
       "      <td>12,3</td>\n",
       "    </tr>\n",
       "    <tr>\n",
       "      <th>3185</th>\n",
       "      <td>396</td>\n",
       "      <td>1,2</td>\n",
       "      <td>8,5</td>\n",
       "      <td>85</td>\n",
       "      <td>1,9</td>\n",
       "    </tr>\n",
       "  </tbody>\n",
       "</table>\n",
       "<p>1792 rows × 5 columns</p>\n",
       "</div>"
      ],
      "text/plain": [
       "     energie   eau proteines glucides lipides\n",
       "5        179  60,3      4,88     23,7     6,7\n",
       "6        130  75,8       4,5     8,87     8,3\n",
       "9       29,9  93,2      0,94     3,07     0,7\n",
       "13       167  65,5      3,79     17,4     8,3\n",
       "16       105  80,4      0,94     5,78     8,1\n",
       "...      ...   ...       ...      ...     ...\n",
       "3181     100  77,7      3,19     12,5     3,5\n",
       "3182     393   2,2       5,1     88,3     1,7\n",
       "3183     391   1,8        10     81,1       2\n",
       "3184     439     3       7,5     73,3    12,3\n",
       "3185     396   1,2       8,5       85     1,9\n",
       "\n",
       "[1792 rows x 5 columns]"
      ]
     },
     "execution_count": 21,
     "metadata": {},
     "output_type": "execute_result"
    }
   ],
   "source": [
    "data_frame = data_frame.dropna(axis=0)\n",
    "data_frame"
   ]
  },
  {
   "cell_type": "code",
   "execution_count": 22,
   "id": "fe983586",
   "metadata": {},
   "outputs": [
    {
     "name": "stdout",
     "output_type": "stream",
     "text": [
      "<class 'pandas.core.frame.DataFrame'>\n",
      "Int64Index: 1792 entries, 5 to 3185\n",
      "Data columns (total 5 columns):\n",
      " #   Column     Non-Null Count  Dtype \n",
      "---  ------     --------------  ----- \n",
      " 0   energie    1792 non-null   object\n",
      " 1   eau        1792 non-null   object\n",
      " 2   proteines  1792 non-null   object\n",
      " 3   glucides   1792 non-null   object\n",
      " 4   lipides    1792 non-null   object\n",
      "dtypes: object(5)\n",
      "memory usage: 84.0+ KB\n"
     ]
    }
   ],
   "source": [
    "data_frame.info()"
   ]
  },
  {
   "cell_type": "code",
   "execution_count": 23,
   "id": "eadc9e27",
   "metadata": {},
   "outputs": [
    {
     "data": {
      "text/plain": [
       "5       179.0\n",
       "6       130.0\n",
       "9        29.9\n",
       "13      167.0\n",
       "16      105.0\n",
       "        ...  \n",
       "3181    100.0\n",
       "3182    393.0\n",
       "3183    391.0\n",
       "3184    439.0\n",
       "3185    396.0\n",
       "Name: energie, Length: 1792, dtype: float64"
      ]
     },
     "execution_count": 23,
     "metadata": {},
     "output_type": "execute_result"
    }
   ],
   "source": [
    "energie = data_frame['energie'].str.replace(',', '.').astype('float')\n",
    "energie"
   ]
  },
  {
   "cell_type": "code",
   "execution_count": 24,
   "id": "bcae9a3e",
   "metadata": {},
   "outputs": [
    {
     "data": {
      "image/png": "[encoded data removed]",
      "text/plain": [
       "<Figure size 432x288 with 1 Axes>"
      ]
     },
     "metadata": {
      "needs_background": "light"
     },
     "output_type": "display_data"
    }
   ],
   "source": [
    "plt.hist(energie)\n",
    "plt.show()"
   ]
  },
  {
   "cell_type": "code",
   "execution_count": 25,
   "id": "676bfb4b",
   "metadata": {},
   "outputs": [
    {
     "data": {
      "text/plain": [
       "5       60.3\n",
       "6       75.8\n",
       "9       93.2\n",
       "13      65.5\n",
       "16      80.4\n",
       "        ... \n",
       "3181    77.7\n",
       "3182     2.2\n",
       "3183     1.8\n",
       "3184     3.0\n",
       "3185     1.2\n",
       "Name: eau, Length: 1792, dtype: float64"
      ]
     },
     "execution_count": 25,
     "metadata": {},
     "output_type": "execute_result"
    }
   ],
   "source": [
    "eau = data_frame['eau'].str.replace('<', ' ').str.replace(',', '.').astype('float')\n",
    "eau"
   ]
  },
  {
   "cell_type": "code",
   "execution_count": 26,
   "id": "fe32fe0d",
   "metadata": {},
   "outputs": [
    {
     "data": {
      "image/png": "[encoded data removed]",
      "text/plain": [
       "<Figure size 432x288 with 1 Axes>"
      ]
     },
     "metadata": {
      "needs_background": "light"
     },
     "output_type": "display_data"
    }
   ],
   "source": [
    "plt.hist(eau)\n",
    "plt.show()"
   ]
  },
  {
   "cell_type": "code",
   "execution_count": 27,
   "id": "f168c7fa",
   "metadata": {},
   "outputs": [
    {
     "data": {
      "text/plain": [
       "5        4.88\n",
       "6        4.50\n",
       "9        0.94\n",
       "13       3.79\n",
       "16       0.94\n",
       "        ...  \n",
       "3181     3.19\n",
       "3182     5.10\n",
       "3183    10.00\n",
       "3184     7.50\n",
       "3185     8.50\n",
       "Name: proteines, Length: 1792, dtype: float64"
      ]
     },
     "execution_count": 27,
     "metadata": {},
     "output_type": "execute_result"
    }
   ],
   "source": [
    "proteines = data_frame['proteines'].str.replace('<', ' ').str.replace(',', '.').astype(float)\n",
    "proteines"
   ]
  },
  {
   "cell_type": "code",
   "execution_count": 28,
   "id": "f02b361a",
   "metadata": {},
   "outputs": [
    {
     "data": {
      "image/png": "[encoded data removed]",
      "text/plain": [
       "<Figure size 432x288 with 1 Axes>"
      ]
     },
     "metadata": {
      "needs_background": "light"
     },
     "output_type": "display_data"
    }
   ],
   "source": [
    "plt.hist(proteines)\n",
    "plt.show()"
   ]
  },
  {
   "cell_type": "code",
   "execution_count": 29,
   "id": "f4ecda1a",
   "metadata": {},
   "outputs": [
    {
     "data": {
      "text/plain": [
       "5       23.70\n",
       "6        8.87\n",
       "9        3.07\n",
       "13      17.40\n",
       "16       5.78\n",
       "        ...  \n",
       "3181    12.50\n",
       "3182    88.30\n",
       "3183    81.10\n",
       "3184    73.30\n",
       "3185    85.00\n",
       "Name: glucides, Length: 1792, dtype: float64"
      ]
     },
     "execution_count": 29,
     "metadata": {},
     "output_type": "execute_result"
    }
   ],
   "source": [
    "glucides = data_frame['glucides'].str.replace('<', ' ').str.replace(',', '.').astype(float)\n",
    "glucides"
   ]
  },
  {
   "cell_type": "code",
   "execution_count": 30,
   "id": "74b8bb22",
   "metadata": {},
   "outputs": [
    {
     "data": {
      "image/png": "[encoded data removed]",
      "text/plain": [
       "<Figure size 432x288 with 1 Axes>"
      ]
     },
     "metadata": {
      "needs_background": "light"
     },
     "output_type": "display_data"
    }
   ],
   "source": [
    "plt.hist(glucides)\n",
    "plt.show()"
   ]
  },
  {
   "cell_type": "code",
   "execution_count": 31,
   "id": "f03a9ef7",
   "metadata": {},
   "outputs": [
    {
     "data": {
      "text/plain": [
       "5        6.7\n",
       "6        8.3\n",
       "9        0.7\n",
       "13       8.3\n",
       "16       8.1\n",
       "        ... \n",
       "3181     3.5\n",
       "3182     1.7\n",
       "3183     2.0\n",
       "3184    12.3\n",
       "3185     1.9\n",
       "Name: lipides, Length: 1792, dtype: float64"
      ]
     },
     "execution_count": 31,
     "metadata": {},
     "output_type": "execute_result"
    }
   ],
   "source": [
    "lipides = data_frame['lipides'].str.replace('<', ' ').str.replace(',', '.').astype(float)\n",
    "lipides"
   ]
  },
  {
   "cell_type": "code",
   "execution_count": 32,
   "id": "480d1890",
   "metadata": {},
   "outputs": [
    {
     "data": {
      "image/png": "[encoded data removed]",
      "text/plain": [
       "<Figure size 432x288 with 1 Axes>"
      ]
     },
     "metadata": {
      "needs_background": "light"
     },
     "output_type": "display_data"
    }
   ],
   "source": [
    "plt.hist(lipides)\n",
    "plt.show()"
   ]
  },
  {
   "cell_type": "code",
   "execution_count": 33,
   "id": "ab080c07",
   "metadata": {},
   "outputs": [],
   "source": [
    "clean_data = pd.concat([energie, eau, proteines, glucides, lipides], axis=1)"
   ]
  },
  {
   "cell_type": "code",
   "execution_count": 34,
   "id": "67fe13bd",
   "metadata": {},
   "outputs": [
    {
     "data": {
      "text/html": [
       "<div>\n",
       "<style scoped>\n",
       "    .dataframe tbody tr th:only-of-type {\n",
       "        vertical-align: middle;\n",
       "    }\n",
       "\n",
       "    .dataframe tbody tr th {\n",
       "        vertical-align: top;\n",
       "    }\n",
       "\n",
       "    .dataframe thead th {\n",
       "        text-align: right;\n",
       "    }\n",
       "</style>\n",
       "<table border=\"1\" class=\"dataframe\">\n",
       "  <thead>\n",
       "    <tr style=\"text-align: right;\">\n",
       "      <th></th>\n",
       "      <th>energie</th>\n",
       "      <th>eau</th>\n",
       "      <th>proteines</th>\n",
       "      <th>glucides</th>\n",
       "      <th>lipides</th>\n",
       "    </tr>\n",
       "  </thead>\n",
       "  <tbody>\n",
       "    <tr>\n",
       "      <th>5</th>\n",
       "      <td>179.0</td>\n",
       "      <td>60.3</td>\n",
       "      <td>4.88</td>\n",
       "      <td>23.70</td>\n",
       "      <td>6.7</td>\n",
       "    </tr>\n",
       "    <tr>\n",
       "      <th>6</th>\n",
       "      <td>130.0</td>\n",
       "      <td>75.8</td>\n",
       "      <td>4.50</td>\n",
       "      <td>8.87</td>\n",
       "      <td>8.3</td>\n",
       "    </tr>\n",
       "    <tr>\n",
       "      <th>9</th>\n",
       "      <td>29.9</td>\n",
       "      <td>93.2</td>\n",
       "      <td>0.94</td>\n",
       "      <td>3.07</td>\n",
       "      <td>0.7</td>\n",
       "    </tr>\n",
       "    <tr>\n",
       "      <th>13</th>\n",
       "      <td>167.0</td>\n",
       "      <td>65.5</td>\n",
       "      <td>3.79</td>\n",
       "      <td>17.40</td>\n",
       "      <td>8.3</td>\n",
       "    </tr>\n",
       "    <tr>\n",
       "      <th>16</th>\n",
       "      <td>105.0</td>\n",
       "      <td>80.4</td>\n",
       "      <td>0.94</td>\n",
       "      <td>5.78</td>\n",
       "      <td>8.1</td>\n",
       "    </tr>\n",
       "    <tr>\n",
       "      <th>...</th>\n",
       "      <td>...</td>\n",
       "      <td>...</td>\n",
       "      <td>...</td>\n",
       "      <td>...</td>\n",
       "      <td>...</td>\n",
       "    </tr>\n",
       "    <tr>\n",
       "      <th>3181</th>\n",
       "      <td>100.0</td>\n",
       "      <td>77.7</td>\n",
       "      <td>3.19</td>\n",
       "      <td>12.50</td>\n",
       "      <td>3.5</td>\n",
       "    </tr>\n",
       "    <tr>\n",
       "      <th>3182</th>\n",
       "      <td>393.0</td>\n",
       "      <td>2.2</td>\n",
       "      <td>5.10</td>\n",
       "      <td>88.30</td>\n",
       "      <td>1.7</td>\n",
       "    </tr>\n",
       "    <tr>\n",
       "      <th>3183</th>\n",
       "      <td>391.0</td>\n",
       "      <td>1.8</td>\n",
       "      <td>10.00</td>\n",
       "      <td>81.10</td>\n",
       "      <td>2.0</td>\n",
       "    </tr>\n",
       "    <tr>\n",
       "      <th>3184</th>\n",
       "      <td>439.0</td>\n",
       "      <td>3.0</td>\n",
       "      <td>7.50</td>\n",
       "      <td>73.30</td>\n",
       "      <td>12.3</td>\n",
       "    </tr>\n",
       "    <tr>\n",
       "      <th>3185</th>\n",
       "      <td>396.0</td>\n",
       "      <td>1.2</td>\n",
       "      <td>8.50</td>\n",
       "      <td>85.00</td>\n",
       "      <td>1.9</td>\n",
       "    </tr>\n",
       "  </tbody>\n",
       "</table>\n",
       "<p>1792 rows × 5 columns</p>\n",
       "</div>"
      ],
      "text/plain": [
       "      energie   eau  proteines  glucides  lipides\n",
       "5       179.0  60.3       4.88     23.70      6.7\n",
       "6       130.0  75.8       4.50      8.87      8.3\n",
       "9        29.9  93.2       0.94      3.07      0.7\n",
       "13      167.0  65.5       3.79     17.40      8.3\n",
       "16      105.0  80.4       0.94      5.78      8.1\n",
       "...       ...   ...        ...       ...      ...\n",
       "3181    100.0  77.7       3.19     12.50      3.5\n",
       "3182    393.0   2.2       5.10     88.30      1.7\n",
       "3183    391.0   1.8      10.00     81.10      2.0\n",
       "3184    439.0   3.0       7.50     73.30     12.3\n",
       "3185    396.0   1.2       8.50     85.00      1.9\n",
       "\n",
       "[1792 rows x 5 columns]"
      ]
     },
     "execution_count": 34,
     "metadata": {},
     "output_type": "execute_result"
    }
   ],
   "source": [
    "clean_data"
   ]
  },
  {
   "cell_type": "code",
   "execution_count": 35,
   "id": "9af62485",
   "metadata": {},
   "outputs": [
    {
     "name": "stdout",
     "output_type": "stream",
     "text": [
      "<class 'pandas.core.frame.DataFrame'>\n",
      "Int64Index: 1792 entries, 5 to 3185\n",
      "Data columns (total 5 columns):\n",
      " #   Column     Non-Null Count  Dtype  \n",
      "---  ------     --------------  -----  \n",
      " 0   energie    1792 non-null   float64\n",
      " 1   eau        1792 non-null   float64\n",
      " 2   proteines  1792 non-null   float64\n",
      " 3   glucides   1792 non-null   float64\n",
      " 4   lipides    1792 non-null   float64\n",
      "dtypes: float64(5)\n",
      "memory usage: 84.0 KB\n"
     ]
    }
   ],
   "source": [
    "clean_data.info()"
   ]
  },
  {
   "cell_type": "code",
   "execution_count": 36,
   "id": "5ecf03f7",
   "metadata": {},
   "outputs": [],
   "source": [
    "from pandas import set_option\n",
    "import seaborn as sns"
   ]
  },
  {
   "cell_type": "code",
   "execution_count": 37,
   "id": "15d26e31",
   "metadata": {},
   "outputs": [
    {
     "name": "stdout",
     "output_type": "stream",
     "text": [
      "           energie    eau  proteines  glucides  lipides\n",
      "energie      1.000 -0.850      0.122     0.384    0.845\n",
      "eau         -0.850  1.000     -0.200    -0.682   -0.482\n",
      "proteines    0.122 -0.200      1.000    -0.142   -0.004\n",
      "glucides     0.384 -0.682     -0.142     1.000   -0.112\n",
      "lipides      0.845 -0.482     -0.004    -0.112    1.000\n"
     ]
    }
   ],
   "source": [
    "set_option('display.width', 100)\n",
    "set_option('precision', 3)\n",
    "correlations = clean_data.corr(method='pearson')\n",
    "print(correlations)"
   ]
  },
  {
   "cell_type": "code",
   "execution_count": 38,
   "id": "2032ef11",
   "metadata": {},
   "outputs": [
    {
     "data": {
      "image/png": "[encoded data removed]",
      "text/plain": [
       "<Figure size 792x576 with 9 Axes>"
      ]
     },
     "metadata": {
      "needs_background": "light"
     },
     "output_type": "display_data"
    }
   ],
   "source": [
    "clean_data.plot(kind='density', layout=(3, 3), figsize=(11, 8), sharex=False, sharey=False, subplots=True)\n",
    "plt.show()"
   ]
  },
  {
   "cell_type": "code",
   "execution_count": 39,
   "id": "d712098b",
   "metadata": {},
   "outputs": [
    {
     "data": {
      "image/png": "[encoded data removed]",
      "text/plain": [
       "<Figure size 792x576 with 9 Axes>"
      ]
     },
     "metadata": {
      "needs_background": "light"
     },
     "output_type": "display_data"
    }
   ],
   "source": [
    "clean_data.plot(kind='box', layout=(3, 3), figsize=(11, 8), sharex=False, sharey=False, subplots=True)\n",
    "plt.show()"
   ]
  },
  {
   "cell_type": "code",
   "execution_count": 40,
   "id": "8a487d34",
   "metadata": {},
   "outputs": [
    {
     "data": {
      "image/png": "[encoded data removed]",
      "text/plain": [
       "<Figure size 576x360 with 6 Axes>"
      ]
     },
     "metadata": {
      "needs_background": "light"
     },
     "output_type": "display_data"
    }
   ],
   "source": [
    "clean_data.hist(figsize=(8, 5))\n",
    "plt.show()"
   ]
  },
  {
   "cell_type": "code",
   "execution_count": 41,
   "id": "ae9228bc",
   "metadata": {},
   "outputs": [
    {
     "data": {
      "image/png": "[encoded data removed]",
      "text/plain": [
       "<Figure size 792x576 with 9 Axes>"
      ]
     },
     "metadata": {
      "needs_background": "light"
     },
     "output_type": "display_data"
    }
   ],
   "source": [
    "clean_data.plot(kind='hist', layout=(3, 3), figsize=(11, 8), sharex=False, sharey=False, subplots=True)\n",
    "plt.show()"
   ]
  },
  {
   "cell_type": "code",
   "execution_count": 42,
   "id": "402aec28",
   "metadata": {},
   "outputs": [],
   "source": [
    "clean_data.columns, \n",
    "names = ['energie', 'eau', 'proteines', 'glucides', 'lipides']"
   ]
  },
  {
   "cell_type": "code",
   "execution_count": 43,
   "id": "349bb7c5",
   "metadata": {},
   "outputs": [
    {
     "data": {
      "image/png": "[encoded data removed]",
      "text/plain": [
       "<Figure size 576x432 with 2 Axes>"
      ]
     },
     "metadata": {
      "needs_background": "light"
     },
     "output_type": "display_data"
    }
   ],
   "source": [
    "correlations = clean_data.corr()\n",
    "fig = plt.figure(figsize=(8, 6))\n",
    "ax = fig.add_subplot(111)\n",
    "cax = ax.matshow(correlations, vmin=-1, vmax=1)\n",
    "fig.colorbar(cax)\n",
    "ticks = np.arange(0, 5, 1)\n",
    "ax.set_xticks(ticks)\n",
    "ax.set_yticks(ticks)\n",
    "ax.set_xticklabels(names)\n",
    "ax.set_yticklabels(names)\n",
    "plt.show()"
   ]
  },
  {
   "cell_type": "code",
   "execution_count": 44,
   "id": "84f71c07",
   "metadata": {},
   "outputs": [
    {
     "data": {
      "image/png": "[encoded data removed]",
      "text/plain": [
       "<Figure size 432x288 with 25 Axes>"
      ]
     },
     "metadata": {
      "needs_background": "light"
     },
     "output_type": "display_data"
    }
   ],
   "source": [
    "from pandas.plotting import scatter_matrix\n",
    "scatter_matrix(clean_data)\n",
    "plt.show()"
   ]
  },
  {
   "cell_type": "markdown",
   "id": "8e79f5ec",
   "metadata": {},
   "source": [
    "<em>L'énergie et l'eau sont fortement corrélées, cependant négativement.\n",
    "Les quantittés de lipides et d'énergie sont fortement et positivement corrélées.</em>"
   ]
  },
  {
   "cell_type": "markdown",
   "id": "6a08b499",
   "metadata": {},
   "source": [
    "### Let's cluster foods using only two constituents ( Energy and Water )\n",
    "<em> This helps keep things in two dimensions for better visualization </em>"
   ]
  },
  {
   "cell_type": "code",
   "execution_count": 45,
   "id": "80353ff8",
   "metadata": {},
   "outputs": [
    {
     "data": {
      "image/png": "[encoded data removed]",
      "text/plain": [
       "<Figure size 504x360 with 1 Axes>"
      ]
     },
     "metadata": {
      "needs_background": "light"
     },
     "output_type": "display_data"
    }
   ],
   "source": [
    "data = clean_data[['energie', 'eau']].values\n",
    "plt.figure(figsize=(7, 5))\n",
    "plt.scatter(data[:, 0], data[:, 1])\n",
    "plt.xlabel(\"Energie\")\n",
    "plt.ylabel(\"Eau\")\n",
    "plt.title(\"Energie and Eau Scatter\")\n",
    "plt.show()"
   ]
  },
  {
   "cell_type": "markdown",
   "id": "3dd31006",
   "metadata": {},
   "source": [
    "### <em>`Seeing the plot above, we can think of at least three clusters.`</em>"
   ]
  },
  {
   "cell_type": "code",
   "execution_count": 46,
   "id": "a8e7c52c",
   "metadata": {},
   "outputs": [
    {
     "data": {
      "image/png": "[encoded data removed]",
      "text/plain": [
       "<Figure size 504x360 with 1 Axes>"
      ]
     },
     "metadata": {
      "needs_background": "light"
     },
     "output_type": "display_data"
    }
   ],
   "source": [
    "model = KMeansFromScratch(n_clusters=3, n_iterations=300, random_state=47)\n",
    "headers = ['energie', 'eau', 'proteines', 'glucides', 'lipides']\n",
    "X = clean_data[['energie', 'eau']].values\n",
    "\n",
    "clusters, cluster_indexes = model.fit(X)\n",
    "plt.figure(figsize=(7, 5))\n",
    "plt.scatter(X[:, 0], X[:, 1], c=cluster_indexes)\n",
    "plt.scatter(model.centroids_[:, 0], model.centroids_[:, 1], c='r', marker='*', label='Cluster centers')\n",
    "plt.xlabel(\"Energie\")\n",
    "plt.ylabel(\"Eau\")\n",
    "plt.title(\"Energie and Eau Scatter\")\n",
    "plt.legend()\n",
    "plt.show()"
   ]
  },
  {
   "cell_type": "code",
   "execution_count": 48,
   "id": "78b7d399",
   "metadata": {},
   "outputs": [
    {
     "data": {
      "text/plain": [
       "10153359.483731221"
      ]
     },
     "execution_count": 48,
     "metadata": {},
     "output_type": "execute_result"
    }
   ],
   "source": [
    "model.inertia()"
   ]
  },
  {
   "cell_type": "markdown",
   "id": "24aac819",
   "metadata": {},
   "source": [
    "Some yellow and blue points in the above plot do not look to have been well clustered (classified). This could be due to the number of iterations which is just 7.\n",
    "Let's increase it, and see. The inertia value is very high.<em>`Can we improve it ?`</em>"
   ]
  },
  {
   "cell_type": "code",
   "execution_count": 224,
   "id": "7577e3b7",
   "metadata": {},
   "outputs": [
    {
     "data": {
      "image/png": "[encoded data removed]",
      "text/plain": [
       "<Figure size 504x360 with 1 Axes>"
      ]
     },
     "metadata": {
      "needs_background": "light"
     },
     "output_type": "display_data"
    }
   ],
   "source": [
    "model = KMeansFromScratch(n_clusters=3, n_iterations=600, random_state=47)\n",
    "headers = ['energie', 'eau', 'proteines', 'glucides', 'lipides']\n",
    "X = clean_data[['energie', 'eau']].values\n",
    "\n",
    "clusters, cluster_indexes = model.fit(X)\n",
    "plt.figure(figsize=(7, 5))\n",
    "plt.scatter(X[:, 0], X[:, 1], c=cluster_indexes)\n",
    "plt.scatter(model.centroids_[:, 0], model.centroids_[:, 1], c='r', marker='*', label='Cluster centers')\n",
    "plt.xlabel(\"Energie\")\n",
    "plt.ylabel(\"Eau\")\n",
    "plt.title(\"Energie and Eau Scatter\")\n",
    "plt.legend()\n",
    "plt.show()"
   ]
  },
  {
   "cell_type": "code",
   "execution_count": 225,
   "id": "d4103939",
   "metadata": {},
   "outputs": [
    {
     "data": {
      "text/plain": [
       "10153359.483731221"
      ]
     },
     "execution_count": 225,
     "metadata": {},
     "output_type": "execute_result"
    }
   ],
   "source": [
    "model.inertia()"
   ]
  },
  {
   "cell_type": "markdown",
   "id": "43ffc677",
   "metadata": {},
   "source": [
    "There is no unfortunately any improvement ! Let's variate the number of clusters."
   ]
  },
  {
   "cell_type": "code",
   "execution_count": 226,
   "id": "21e2884f",
   "metadata": {},
   "outputs": [
    {
     "data": {
      "image/png": "[encoded data removed]",
      "text/plain": [
       "<Figure size 504x360 with 1 Axes>"
      ]
     },
     "metadata": {
      "needs_background": "light"
     },
     "output_type": "display_data"
    }
   ],
   "source": [
    "model = KMeansFromScratch(n_clusters=4, n_iterations=600, random_state=47)\n",
    "headers = ['energie', 'eau', 'proteines', 'glucides', 'lipides']\n",
    "X = clean_data[['energie', 'eau']].values\n",
    "\n",
    "clusters, cluster_indexes = model.fit(X)\n",
    "plt.figure(figsize=(7, 5))\n",
    "plt.scatter(X[:, 0], X[:, 1], c=cluster_indexes)\n",
    "plt.scatter(model.centroids_[:, 0], model.centroids_[:, 1], c='r', marker='*', label='Cluster centers')\n",
    "plt.xlabel(\"Energie\")\n",
    "plt.ylabel(\"Eau\")\n",
    "plt.title(\"Energie and Eau Scatter\")\n",
    "plt.legend()\n",
    "plt.show()"
   ]
  },
  {
   "cell_type": "code",
   "execution_count": 227,
   "id": "819f44ec",
   "metadata": {},
   "outputs": [
    {
     "data": {
      "text/plain": [
       "5169208.1118518105"
      ]
     },
     "execution_count": 227,
     "metadata": {},
     "output_type": "execute_result"
    }
   ],
   "source": [
    "model.inertia()"
   ]
  },
  {
   "cell_type": "markdown",
   "id": "b8ec3c1f",
   "metadata": {},
   "source": [
    "There is a tremendous improvement, the inertia goes down by half. This ensure that the required number of clusters\n",
    "for this data set, given the choosen covariates might better. Let's try on the whole chosen covariates"
   ]
  },
  {
   "cell_type": "code",
   "execution_count": 228,
   "id": "e10e6ba2",
   "metadata": {},
   "outputs": [
    {
     "data": {
      "text/plain": [
       "5887544.911315488"
      ]
     },
     "execution_count": 228,
     "metadata": {},
     "output_type": "execute_result"
    }
   ],
   "source": [
    "model = KMeansFromScratch(n_clusters=4, n_iterations=100, random_state=47)\n",
    "headers = ['energie', 'eau', 'proteines', 'glucides', 'lipides']\n",
    "X = clean_data[headers].values\n",
    "\n",
    "clusters, cluster_indexes = model.fit(X)\n",
    "model.inertia()"
   ]
  },
  {
   "cell_type": "code",
   "execution_count": 229,
   "id": "644b157f",
   "metadata": {},
   "outputs": [
    {
     "data": {
      "text/plain": [
       "5887544.911315488"
      ]
     },
     "execution_count": 229,
     "metadata": {},
     "output_type": "execute_result"
    }
   ],
   "source": [
    "model = KMeansFromScratch(n_clusters=4, n_iterations=300, random_state=47)\n",
    "headers = ['energie', 'eau', 'proteines', 'glucides', 'lipides']\n",
    "X = clean_data[headers].values\n",
    "\n",
    "clusters, cluster_indexes = model.fit(X)\n",
    "model.inertia()"
   ]
  },
  {
   "cell_type": "code",
   "execution_count": 230,
   "id": "6d7ea77e",
   "metadata": {},
   "outputs": [
    {
     "data": {
      "text/plain": [
       "5887544.911315488"
      ]
     },
     "execution_count": 230,
     "metadata": {},
     "output_type": "execute_result"
    }
   ],
   "source": [
    "model = KMeansFromScratch(n_clusters=4, n_iterations=600, random_state=47)\n",
    "headers = ['energie', 'eau', 'proteines', 'glucides', 'lipides']\n",
    "X = clean_data[headers].values\n",
    "\n",
    "clusters, cluster_indexes = model.fit(X)\n",
    "model.inertia()"
   ]
  },
  {
   "cell_type": "code",
   "execution_count": 231,
   "id": "7f2924de",
   "metadata": {},
   "outputs": [
    {
     "data": {
      "text/plain": [
       "5887544.911315488"
      ]
     },
     "execution_count": 231,
     "metadata": {},
     "output_type": "execute_result"
    }
   ],
   "source": [
    "model = KMeansFromScratch(n_clusters=4, n_iterations=900, random_state=47)\n",
    "headers = ['energie', 'eau', 'proteines', 'glucides', 'lipides']\n",
    "X = clean_data[headers].values\n",
    "\n",
    "clusters, cluster_indexes = model.fit(X)\n",
    "model.inertia()"
   ]
  },
  {
   "cell_type": "code",
   "execution_count": 232,
   "id": "baa9c3fd",
   "metadata": {},
   "outputs": [
    {
     "data": {
      "text/plain": [
       "5887544.911315488"
      ]
     },
     "execution_count": 232,
     "metadata": {},
     "output_type": "execute_result"
    }
   ],
   "source": [
    "model = KMeansFromScratch(n_clusters=4, n_iterations=1200, random_state=47)\n",
    "headers = ['energie', 'eau', 'proteines', 'glucides', 'lipides']\n",
    "X = clean_data[headers].values\n",
    "\n",
    "clusters, cluster_indexes = model.fit(X)\n",
    "model.inertia()"
   ]
  },
  {
   "cell_type": "code",
   "execution_count": 233,
   "id": "a3eddd83",
   "metadata": {},
   "outputs": [
    {
     "data": {
      "text/plain": [
       "5887544.911315488"
      ]
     },
     "execution_count": 233,
     "metadata": {},
     "output_type": "execute_result"
    }
   ],
   "source": [
    "model = KMeansFromScratch(n_clusters=4, n_iterations=1500, random_state=47)\n",
    "headers = ['energie', 'eau', 'proteines', 'glucides', 'lipides']\n",
    "X = clean_data[headers].values\n",
    "\n",
    "clusters, cluster_indexes = model.fit(X)\n",
    "model.inertia()"
   ]
  },
  {
   "cell_type": "code",
   "execution_count": 234,
   "id": "05e3b671",
   "metadata": {},
   "outputs": [
    {
     "data": {
      "text/plain": [
       "5887544.911315488"
      ]
     },
     "execution_count": 234,
     "metadata": {},
     "output_type": "execute_result"
    }
   ],
   "source": [
    "model = KMeansFromScratch(n_clusters=4, n_iterations=1800, random_state=47)\n",
    "headers = ['energie', 'eau', 'proteines', 'glucides', 'lipides']\n",
    "X = clean_data[headers].values\n",
    "\n",
    "clusters, cluster_indexes = model.fit(X)\n",
    "model.inertia()"
   ]
  },
  {
   "cell_type": "code",
   "execution_count": 87,
   "id": "a6528ecd",
   "metadata": {},
   "outputs": [
    {
     "data": {
      "text/plain": [
       "10997897.082318077"
      ]
     },
     "execution_count": 87,
     "metadata": {},
     "output_type": "execute_result"
    }
   ],
   "source": [
    "model.inertia()"
   ]
  },
  {
   "cell_type": "markdown",
   "id": "c8b388eb",
   "metadata": {},
   "source": [
    "### <em>`Using the elbow method to select the number of clusters.`</em>"
   ]
  },
  {
   "cell_type": "code",
   "execution_count": 165,
   "id": "48fc3620",
   "metadata": {},
   "outputs": [],
   "source": [
    "from sklearn.cluster import KMeans"
   ]
  },
  {
   "cell_type": "code",
   "execution_count": 181,
   "id": "9f57555c",
   "metadata": {},
   "outputs": [],
   "source": [
    "inertias = []\n",
    "K = [x for x in range(1, 11)]\n",
    "for k in K:\n",
    "    kmeans = KMeans(n_clusters=k, max_iter=10000)\n",
    "    fit = kmeans.fit(X)\n",
    "    inertias.append(fit.inertia_)"
   ]
  },
  {
   "cell_type": "code",
   "execution_count": 182,
   "id": "6ae37aa2",
   "metadata": {},
   "outputs": [
    {
     "data": {
      "image/png": "[encoded data removed]",
      "text/plain": [
       "<Figure size 504x360 with 1 Axes>"
      ]
     },
     "metadata": {
      "needs_background": "light"
     },
     "output_type": "display_data"
    }
   ],
   "source": [
    "plt.figure(figsize=(7, 5))\n",
    "plt.plot(K, inertias)\n",
    "plt.xlabel(\"Number of clusters\")\n",
    "plt.ylabel(\"Inertia values\")\n",
    "plt.title(\"Inertia values per cluster\")\n",
    "plt.show()"
   ]
  },
  {
   "cell_type": "markdown",
   "id": "5c99ba2b",
   "metadata": {},
   "source": [
    "### <em>`The best number of clusters is 4.`</em>"
   ]
  },
  {
   "cell_type": "code",
   "execution_count": 211,
   "id": "9f718a0c",
   "metadata": {},
   "outputs": [
    {
     "data": {
      "text/plain": [
       "array([[179.  ,  60.3 ,   4.88,  23.7 ,   6.7 ],\n",
       "       [130.  ,  75.8 ,   4.5 ,   8.87,   8.3 ],\n",
       "       [ 29.9 ,  93.2 ,   0.94,   3.07,   0.7 ],\n",
       "       ...,\n",
       "       [391.  ,   1.8 ,  10.  ,  81.1 ,   2.  ],\n",
       "       [439.  ,   3.  ,   7.5 ,  73.3 ,  12.3 ],\n",
       "       [396.  ,   1.2 ,   8.5 ,  85.  ,   1.9 ]])"
      ]
     },
     "execution_count": 211,
     "metadata": {},
     "output_type": "execute_result"
    }
   ],
   "source": [
    "X"
   ]
  },
  {
   "cell_type": "code",
   "execution_count": 188,
   "id": "5faa1690",
   "metadata": {},
   "outputs": [
    {
     "data": {
      "text/plain": [
       "[1]"
      ]
     },
     "execution_count": 188,
     "metadata": {},
     "output_type": "execute_result"
    }
   ],
   "source": [
    "inertia_values = []\n",
    "K = [x for x in range(1, 2)]\n",
    "K"
   ]
  },
  {
   "cell_type": "code",
   "execution_count": 222,
   "id": "19621553",
   "metadata": {},
   "outputs": [
    {
     "data": {
      "text/plain": [
       "5887544.911315488"
      ]
     },
     "execution_count": 222,
     "metadata": {},
     "output_type": "execute_result"
    }
   ],
   "source": [
    "k = 4\n",
    "model = KMeansFromScratch(n_clusters=k, n_iterations=700, random_state=47)\n",
    "r = model.fit(X)\n",
    "model.inertia()"
   ]
  },
  {
   "cell_type": "code",
   "execution_count": 223,
   "id": "1866f71b",
   "metadata": {},
   "outputs": [
    {
     "data": {
      "text/plain": [
       "5887544.911315488"
      ]
     },
     "execution_count": 223,
     "metadata": {},
     "output_type": "execute_result"
    }
   ],
   "source": [
    "k = 4\n",
    "model = KMeansFromScratch(n_clusters=k, n_iterations=1200, random_state=47)\n",
    "r = model.fit(X)\n",
    "model.inertia()"
   ]
  },
  {
   "cell_type": "code",
   "execution_count": 221,
   "id": "42564805",
   "metadata": {},
   "outputs": [
    {
     "data": {
      "text/plain": [
       "array([[399.  ,  30.3 ,  16.2 ,  22.7 ,  26.6 ],\n",
       "       [306.  ,  39.4 ,   8.15,  30.9 ,  16.  ],\n",
       "       [306.  ,  34.4 ,   9.53,  38.8 ,  11.8 ],\n",
       "       ...,\n",
       "       [391.  ,   1.8 ,  10.  ,  81.1 ,   2.  ],\n",
       "       [439.  ,   3.  ,   7.5 ,  73.3 ,  12.3 ],\n",
       "       [396.  ,   1.2 ,   8.5 ,  85.  ,   1.9 ]])"
      ]
     },
     "execution_count": 221,
     "metadata": {},
     "output_type": "execute_result"
    }
   ],
   "source": [
    "model.clusters_[0]"
   ]
  },
  {
   "cell_type": "code",
   "execution_count": 132,
   "id": "a2452fc1",
   "metadata": {},
   "outputs": [
    {
     "data": {
      "image/png": "[encoded data removed]",
      "text/plain": [
       "<Figure size 504x360 with 1 Axes>"
      ]
     },
     "metadata": {
      "needs_background": "light"
     },
     "output_type": "display_data"
    }
   ],
   "source": [
    "model = KMeansFromScratch(n_clusters=4, n_iterations=50, random_state=47)\n",
    "headers = ['energie', 'eau', 'proteines', 'glucides', 'lipides']\n",
    "X = clean_data[['energie', 'eau']].values\n",
    "\n",
    "clusters, cluster_indexes = model.fit(X)\n",
    "\n",
    "plt.figure(figsize=(7, 5))\n",
    "plt.scatter(X[:, 0], X[:, 1], c=cluster_indexes)\n",
    "plt.scatter(model.centroids_[:, 0], model.centroids_[:, 1], c='r', marker='*', label='Cluster centers')\n",
    "plt.xlabel(\"Energie\")\n",
    "plt.ylabel(\"Eau\")\n",
    "plt.title(\"Energie and Eau Scatter\")\n",
    "plt.legend()\n",
    "plt.show()"
   ]
  },
  {
   "cell_type": "code",
   "execution_count": 313,
   "id": "322a75ae",
   "metadata": {},
   "outputs": [
    {
     "name": "stdout",
     "output_type": "stream",
     "text": [
      "Before \n",
      "[[ 65.4  87.5]\n",
      " [ 31.1  92. ]\n",
      " [  0.   99.9]\n",
      " [327.   21.5]\n",
      " [144.   67.5]]\n"
     ]
    },
    {
     "data": {
      "image/png": "[encoded data removed]",
      "text/plain": [
       "<Figure size 504x360 with 1 Axes>"
      ]
     },
     "metadata": {
      "needs_background": "light"
     },
     "output_type": "display_data"
    }
   ],
   "source": [
    "model = KMeansFromScratch(n_clusters=5, n_iterations=200, random_state=47)\n",
    "headers = ['energie', 'eau', 'proteines', 'glucides', 'lipides']\n",
    "X = clean_data[['energie', 'eau']].values\n",
    "\n",
    "clusters, cluster_indexes = model.fit(X)\n",
    "\n",
    "plt.figure(figsize=(7, 5))\n",
    "plt.scatter(X[:, 0], X[:, 1], c=cluster_indexes)\n",
    "plt.scatter(model.centroids_[:, 0], model.centroids_[:, 1], c='r', marker='*', label='Cluster centers')\n",
    "plt.xlabel(\"Energie\")\n",
    "plt.ylabel(\"Eau\")\n",
    "plt.title(\"Energie and Eau Scatter\")\n",
    "plt.legend()\n",
    "plt.show()"
   ]
  }
 ],
 "metadata": {
  "kernelspec": {
   "display_name": "Python 3 (ipykernel)",
   "language": "python",
   "name": "python3"
  },
  "language_info": {
   "codemirror_mode": {
    "name": "ipython",
    "version": 3
   },
   "file_extension": ".py",
   "mimetype": "text/x-python",
   "name": "python",
   "nbconvert_exporter": "python",
   "pygments_lexer": "ipython3",
   "version": "3.8.10"
  }
 },
 "nbformat": 4,
 "nbformat_minor": 5
}
